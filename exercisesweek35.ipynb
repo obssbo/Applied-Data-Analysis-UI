{
 "cells": [
  {
   "cell_type": "markdown",
   "id": "a15180da",
   "metadata": {
    "editable": true
   },
   "source": [
    "<!-- HTML file automatically generated from DocOnce source (https://github.com/doconce/doconce/)\n",
    "doconce format html exercisesweek35.do.txt  -->\n",
    "<!-- dom:TITLE: Exercises week 35 -->"
   ]
  },
  {
   "cell_type": "markdown",
   "id": "ac77b923",
   "metadata": {
    "editable": true
   },
   "source": [
    "# Exercises week 35\n",
    "**August 26-30, 2024**\n",
    "\n",
    "Date: **Deadline is Friday August 30 at midnight**"
   ]
  },
  {
   "cell_type": "markdown",
   "id": "e8b90270",
   "metadata": {
    "editable": true
   },
   "source": [
    "## Exercise 1: Analytical exercises\n",
    "\n",
    "In this exercise we derive the expressions for various derivatives of\n",
    "products of vectors and matrices. Such derivatives are central to the\n",
    "optimization of various cost functions. Although we will often use\n",
    "automatic differentiation in actual calculations, to be able to have\n",
    "analytical expressions is extremely helpful in case we have simpler\n",
    "derivatives as well as when we analyze various properties (like second\n",
    "derivatives) of the chosen cost functions.  Vectors are always written\n",
    "as boldfaced lower case letters and matrices as upper case boldfaced\n",
    "letters. You will find useful the notes from week 35 on derivatives of vectors and matrices.\n",
    "\n",
    "Show that"
   ]
  },
  {
   "cell_type": "markdown",
   "id": "2e2e8f1a",
   "metadata": {
    "editable": true
   },
   "source": [
    "$$\n",
    "\\frac{\\partial (\\boldsymbol{b}^T\\boldsymbol{a})}{\\partial \\boldsymbol{a}} = \\boldsymbol{b},\n",
    "$$"
   ]
  },
  {
   "cell_type": "markdown",
   "id": "d131060a-b51c-46e8-bd46-8d17340cef8f",
   "metadata": {},
   "source": [
    "**Solution**\n",
    "\n",
    "We write $(\\boldsymbol{b}^T\\boldsymbol{a})$ as a sum\n",
    "$$\n",
    "\\frac{\\partial }{\\partial a_{k}} \\sum_{i=0}^{n-1}b_{i}a_{i} = \\sum_{i=0}^{n-1}b_{i}\\frac{\\partial}{\\partial a_{k}}a_{i} = b_{i} = \\boldsymbol{b}\n",
    "$$"
   ]
  },
  {
   "cell_type": "markdown",
   "id": "6cc4779c-7b2e-4da5-95a9-2a938a3b8b8d",
   "metadata": {},
   "source": [
    "________________________________________________________________________________________________________________________________________________________"
   ]
  },
  {
   "cell_type": "markdown",
   "id": "1cdc68da",
   "metadata": {
    "editable": true
   },
   "source": [
    "and"
   ]
  },
  {
   "cell_type": "markdown",
   "id": "b87f9fdd",
   "metadata": {
    "editable": true
   },
   "source": [
    "$$\n",
    "\\frac{\\partial (\\boldsymbol{a}^T\\boldsymbol{A}\\boldsymbol{a})}{\\partial \\boldsymbol{a}} = \\boldsymbol{a}^T(\\boldsymbol{A}+\\boldsymbol{A}^T),\n",
    "$$"
   ]
  },
  {
   "cell_type": "markdown",
   "id": "768e6c58-b659-44a6-8ca6-bf3dc4381b8d",
   "metadata": {},
   "source": [
    "**Solution**\n",
    "\n",
    "Same as in the solution above, let's write $(\\boldsymbol{a}^T\\boldsymbol{A}\\boldsymbol{a})$ as a sum\n",
    "$$\n",
    "\\frac{\\partial}{\\partial a_{k}} \\sum_{j=0}^{n-1}\\sum_{i=0}^{n-1}a_{j}A_{j,i}a_{i}\n",
    "$$\n",
    "We can now apply the product rule\n",
    "$$\n",
    "\\sum_{j=0}^{n-1}\\sum_{i=0}^{n-1}a_{j}A_{i,j}\\frac{\\partial}{\\partial a_{k}}a_{i} + \\sum_{j=0}^{n-1}\\sum_{i=0}^{n-1}\\frac{\\partial}{\\partial a_{k}}a_{j}A_{k,i}a_{i} = \\sum_{j=0}^{n-1}A_{k,j}a_{j} + \\sum_{i=0}^{n-1}A_{i,k}a_{i}\n",
    "$$\n",
    "And if we write back as a vector and a matrix we get\n",
    "$$\n",
    "\\sum_{j=0}^{n-1}A_{k,j}a_{j} + \\sum_{i=0}^{n-1}A_{i,k}a_{i} \\rightarrow \\boldsymbol{a}^T(\\boldsymbol{A} - \\boldsymbol{A}^T)\n",
    "$$"
   ]
  },
  {
   "cell_type": "markdown",
   "id": "7309d074-3462-4f3a-87cc-2f29082cf76b",
   "metadata": {},
   "source": [
    "________________________________________________________________________________________________________________________________________________________"
   ]
  },
  {
   "cell_type": "markdown",
   "id": "6ab53932",
   "metadata": {
    "editable": true
   },
   "source": [
    "and"
   ]
  },
  {
   "cell_type": "markdown",
   "id": "1a7a8ec2",
   "metadata": {
    "editable": true
   },
   "source": [
    "$$\n",
    "\\frac{\\partial \\left(\\boldsymbol{x}-\\boldsymbol{A}\\boldsymbol{s}\\right)^T\\left(\\boldsymbol{x}-\\boldsymbol{A}\\boldsymbol{s}\\right)}{\\partial \\boldsymbol{s}} = -2\\left(\\boldsymbol{x}-\\boldsymbol{A}\\boldsymbol{s}\\right)^T\\boldsymbol{A},\n",
    "$$"
   ]
  },
  {
   "cell_type": "markdown",
   "id": "b83f5cb2-31b7-43e5-82b0-0d7caba9188b",
   "metadata": {},
   "source": [
    "**Solution**\n",
    "\n",
    "Let's write $\\left(\\boldsymbol{x}-\\boldsymbol{A}\\boldsymbol{s}\\right)^T\\left(\\boldsymbol{x}-\\boldsymbol{A}\\boldsymbol{s}\\right)$ as a sum\n",
    "$$\n",
    "\\left(\\boldsymbol{x}-\\boldsymbol{A}\\boldsymbol{s}\\right)^T\\left(\\boldsymbol{x}-\\boldsymbol{A}\\boldsymbol{s}\\right) = \\sum_{i=1}^{n-1}(x_{i} - a_{i,0}s_0 - a_{i,1}s_1 - \\cdots - a_{i,n-1}s_{n-1})^2 .\n",
    "$$\n",
    "Then if we take the derivative w.r.t. s\n",
    "$$\n",
    "\\frac{\\partial}{\\partial s_{k}} \\sum_{i=1}^{n-1}(x_{i} - a_{i,0}s_0 - a_{i,1}s_1 - \\cdots - a_{i,n-1}s_{n-1})^2 .\n",
    "$$\n",
    "We apply the chain rule i.e. let's set $f(\\boldsymbol{s}) = x_{i} - a_{i,0}s_0 - a_{i,1}s_1 - \\cdots - a_{i,n-1}s_{n-1}$ and $g(f) = f^2$. Now if we take the derivative of both functions $f'(\\boldsymbol{s}) = -a_{i,k}$ and $g'(f) = 2f$ then by the chain rule we get\n",
    "$$\n",
    "-2 \\sum_{i=1}^{n-1}a_{i,k}(x_{i} - a_{i,0}s_0 - a_{i,1}s_1 - \\cdots - a_{i,n-1}s_{n-1}) = -2\\boldsymbol{A}^{T}\\left(\\boldsymbol{x}-\\boldsymbol{A}\\boldsymbol{s}\\right)\n",
    "$$\n",
    "\n",
    "Let's take the derivative of this function\n",
    "$$\n",
    "\\frac{\\partial (-2\\boldsymbol{A}^{T}\\left(\\boldsymbol{x}-\\boldsymbol{A}\\boldsymbol{s}\\right))}{\\partial \\boldsymbol{s}} = \\frac{\\partial}{\\partial \\boldsymbol{s}} -2\\boldsymbol{x}^{T} \\boldsymbol{A} + 2 \\boldsymbol{s}^{T} \\boldsymbol{A}^{T} \\boldsymbol{A}\n",
    "$$\n",
    "Let's suppose $\\boldsymbol{x}$ and $\\boldsymbol{A}$ do not depend on $\\boldsymbol{s}$ then $\\frac{\\partial}{\\partial \\boldsymbol{s}}\\left(-2\\boldsymbol{x}^{T} \\boldsymbol{A}\\right) = \\boldsymbol{0}$\n",
    "\n",
    "Then we get \n",
    "$$\n",
    "\\frac{\\partial }{\\partial \\boldsymbol{s}}\\left(2 \\boldsymbol{s}^{T} \\boldsymbol{A}^{T} \\boldsymbol{A}\\right) = \\frac{\\partial }{\\partial s_{w}} 2\\sum_{i=0}^{n-1}\\sum_{j=0}^{n-1}s_{i}a_{i,j}a_{j,k} = 2\\sum_{j=0}^{n-1}a_{w,j}a_{j,k} = 2\\boldsymbol{A}^{T} \\boldsymbol{A}\n",
    "$$\n",
    "________________________________________________________________________________________________________________________________________________________"
   ]
  },
  {
   "cell_type": "markdown",
   "id": "3bdb1514",
   "metadata": {
    "editable": true
   },
   "source": [
    "and finally find the second derivative of this function with respect to the vector $\\boldsymbol{s}$. If we replace the vector $\\boldsymbol{s}$ with the unknown parameters $\\boldsymbol{\\beta}$ used to define the ordinary least squares method, we end up with the equations that determine these parameters. The matrix $\\boldsymbol{A}$ is then the design matrix $\\boldsymbol{X}$ and $\\boldsymbol{x}$ here has to be replaced with the outputs $\\boldsymbol{y}$.\n",
    "\n",
    "The second derivative of the mean squared error is then proportional to the so-called Hessian matrix $\\boldsymbol{H}=\\boldsymbol{X}^T\\boldsymbol{X}$.\n",
    "\n",
    "**Hint**: In these exercises it is always useful to write out with summation indices the various quantities.\n",
    "As an example, consider the function"
   ]
  },
  {
   "cell_type": "markdown",
   "id": "3e54eca9",
   "metadata": {
    "editable": true
   },
   "source": [
    "$$\n",
    "f(\\boldsymbol{x}) =\\boldsymbol{A}\\boldsymbol{x},\n",
    "$$"
   ]
  },
  {
   "cell_type": "markdown",
   "id": "3db49a1c",
   "metadata": {
    "editable": true
   },
   "source": [
    "which reads for a specific component $f_i$ (we define the matrix $\\boldsymbol{A}$ to have dimension $n\\times n$ and the vector $\\boldsymbol{x}$ to have length $n$)"
   ]
  },
  {
   "cell_type": "markdown",
   "id": "5d4d3a0e",
   "metadata": {
    "editable": true
   },
   "source": [
    "$$\n",
    "f_i =\\sum_{j=0}^{n-1}a_{ij}x_j,\n",
    "$$"
   ]
  },
  {
   "cell_type": "markdown",
   "id": "90eecd1c",
   "metadata": {
    "editable": true
   },
   "source": [
    "which leads to"
   ]
  },
  {
   "cell_type": "markdown",
   "id": "7eb7605f",
   "metadata": {
    "editable": true
   },
   "source": [
    "$$\n",
    "\\frac{\\partial f_i}{\\partial x_j}= a_{ij},\n",
    "$$"
   ]
  },
  {
   "cell_type": "markdown",
   "id": "b30dd90f",
   "metadata": {
    "editable": true
   },
   "source": [
    "and written out in terms of the vector $\\boldsymbol{x}$ we have"
   ]
  },
  {
   "cell_type": "markdown",
   "id": "1167ec1f",
   "metadata": {
    "editable": true
   },
   "source": [
    "$$\n",
    "\\frac{\\partial f(\\boldsymbol{x})}{\\partial \\boldsymbol{x}}= \\boldsymbol{A}.\n",
    "$$"
   ]
  },
  {
   "cell_type": "markdown",
   "id": "8f309e9e",
   "metadata": {
    "editable": true
   },
   "source": [
    "## Exercise 2: making your own data and exploring scikit-learn\n",
    "\n",
    "We will generate our own dataset for a function $y(x)$ where $x \\in\n",
    "[0,1]$ and defined by random numbers computed with the uniform\n",
    "distribution. The function $y$ is a quadratic polynomial in $x$ with\n",
    "added stochastic noise according to the normal distribution $\\cal\n",
    "{N}(0,1)$.  The following simple Python instructions define our $x$\n",
    "and $y$ values (with 100 data points)."
   ]
  },
  {
   "cell_type": "code",
   "execution_count": 2,
   "id": "2df1063f",
   "metadata": {
    "collapsed": false,
    "editable": true,
    "jupyter": {
     "outputs_hidden": false
    }
   },
   "outputs": [],
   "source": [
    "import numpy as np\n",
    "x = np.random.rand(100,1)\n",
    "y = 2.0+5*x*x+0.01*np.random.randn(100,1)"
   ]
  },
  {
   "cell_type": "markdown",
   "id": "0cb75ec5",
   "metadata": {
    "editable": true
   },
   "source": [
    "1. Write your own code (following the examples under the [regression notes](https://compphysics.github.io/MachineLearning/doc/LectureNotes/_build/html/chapter1.html)) for computing the parametrization of the data set fitting a second-order polynomial. "
   ]
  },
  {
   "cell_type": "markdown",
   "id": "6e9baf73-a93d-47af-af57-6a439d1bc214",
   "metadata": {},
   "source": [
    "**Solution**"
   ]
  },
  {
   "cell_type": "markdown",
   "id": "d03f319c-3cd1-494b-81eb-023247cd8a2c",
   "metadata": {},
   "source": [
    "First we create our design matrix $\\mathbf{X}$"
   ]
  },
  {
   "cell_type": "code",
   "execution_count": 3,
   "id": "adb1086f-06fb-4a5f-a343-3fabc7a6fe9b",
   "metadata": {},
   "outputs": [],
   "source": [
    "X = np.zeros((len(x),3))\n",
    "#We define our design matrix as a function of a second order polynomial\n",
    "for k in range(3):\n",
    "    for i in range(len(x)):\n",
    "        X[i,k] = np.squeeze(x[i])**k"
   ]
  },
  {
   "cell_type": "markdown",
   "id": "69612511-4ebf-40f4-825c-ccb14a68fc80",
   "metadata": {},
   "source": [
    "Next we find the value of the parameters $\\pmb{\\beta} = [\\beta_0, \\beta_1, \\beta_2]^{T}$ with the formula $$\\pmb{\\beta = (\\boldsymbol{X}^{T}\\boldsymbol{X})^{-1}\\boldsymbol{X}^{T}\\boldsymbol{y}}$$ which is given in the lecture notes"
   ]
  },
  {
   "cell_type": "code",
   "execution_count": 4,
   "id": "c3e2cb50-96dc-4891-bfac-610594303731",
   "metadata": {},
   "outputs": [
    {
     "data": {
      "text/plain": [
       "array([[ 2.00231157],\n",
       "       [-0.0051683 ],\n",
       "       [ 5.00517245]])"
      ]
     },
     "execution_count": 4,
     "metadata": {},
     "output_type": "execute_result"
    }
   ],
   "source": [
    "Beta = np.dot(np.linalg.inv(np.dot(X.T,X)),np.dot(X.T,y))\n",
    "Beta"
   ]
  },
  {
   "cell_type": "markdown",
   "id": "799118a7-7240-45e7-bc7e-0e9cdd95e5fa",
   "metadata": {},
   "source": [
    "________________________________________________________________________________________________________________________________"
   ]
  },
  {
   "cell_type": "markdown",
   "id": "a6c65dc3-c558-446c-b67c-cfe4e76f07ae",
   "metadata": {},
   "source": [
    "2. Use thereafter **scikit-learn** (see again the examples in the slides for week 35) and compare with your own code. Note here that **scikit-learn** does not include, by default, the intercept. See the discussions on scaling your data in the slides for this week. This type of problems appear in particular if we fit a polynomial with an intercept. "
   ]
  },
  {
   "cell_type": "markdown",
   "id": "b075964b-fb97-454f-8a8a-dbdac9af7e9e",
   "metadata": {},
   "source": [
    "**Solution**"
   ]
  },
  {
   "cell_type": "code",
   "execution_count": 5,
   "id": "cc68a864-9b1d-4b6a-a4f0-065258da7a93",
   "metadata": {},
   "outputs": [
    {
     "name": "stdout",
     "output_type": "stream",
     "text": [
      "Fitted beta: [[ 2.00231157]\n",
      " [-0.0051683 ]\n",
      " [ 5.00517245]]\n",
      "Sklearn fitted beta: [[ 0.        ]\n",
      " [-0.0051683 ]\n",
      " [ 5.00517245]]\n",
      "Sklearn fitted beta: [2.00231157]\n"
     ]
    }
   ],
   "source": [
    "from sklearn.linear_model import LinearRegression\n",
    "from sklearn.preprocessing import StandardScaler\n",
    "import math\n",
    "\n",
    "skl = LinearRegression(fit_intercept=True).fit(X,y)\n",
    "print(f\"Fitted beta: {Beta}\")\n",
    "print(f\"Sklearn fitted beta: {skl.coef_.T}\")\n",
    "print(f\"Sklearn fitted beta: {skl.intercept_}\")"
   ]
  },
  {
   "cell_type": "markdown",
   "id": "92d77c3b-36e0-4e3c-892b-f656b91b5c5c",
   "metadata": {},
   "source": [
    "________________________________________________________________________________________________________________________________________________________"
   ]
  },
  {
   "cell_type": "markdown",
   "id": "1262d4ce-eac0-477e-9972-4dad1db338ca",
   "metadata": {},
   "source": [
    "3. Using scikit-learn, compute also the mean squared error, a risk metric corresponding to the expected value of the squared (quadratic) error defined as"
   ]
  },
  {
   "cell_type": "markdown",
   "id": "f0c36bdb",
   "metadata": {
    "editable": true
   },
   "source": [
    "$$\n",
    "MSE(\\boldsymbol{y},\\boldsymbol{\\tilde{y}}) = \\frac{1}{n}\n",
    "\\sum_{i=0}^{n-1}(y_i-\\tilde{y}_i)^2,\n",
    "$$"
   ]
  },
  {
   "cell_type": "markdown",
   "id": "8c3ce778",
   "metadata": {
    "editable": true
   },
   "source": [
    "and the $R^2$ score function.\n",
    "If $\\tilde{\\boldsymbol{y}}_i$ is the predicted value of the $i-th$ sample and $y_i$ is the corresponding true value, then the score $R^2$ is defined as"
   ]
  },
  {
   "cell_type": "markdown",
   "id": "f861d243",
   "metadata": {
    "editable": true
   },
   "source": [
    "$$\n",
    "R^2(\\boldsymbol{y}, \\tilde{\\boldsymbol{y}}) = 1 - \\frac{\\sum_{i=0}^{n - 1} (y_i - \\tilde{y}_i)^2}{\\sum_{i=0}^{n - 1} (y_i - \\bar{y})^2},\n",
    "$$"
   ]
  },
  {
   "cell_type": "markdown",
   "id": "51500e4b",
   "metadata": {
    "editable": true
   },
   "source": [
    "where we have defined the mean value  of $\\boldsymbol{y}$ as"
   ]
  },
  {
   "cell_type": "markdown",
   "id": "fda9dadd",
   "metadata": {
    "editable": true
   },
   "source": [
    "$$\n",
    "\\bar{y} =  \\frac{1}{n} \\sum_{i=0}^{n - 1} y_i.\n",
    "$$"
   ]
  },
  {
   "cell_type": "markdown",
   "id": "6b691499",
   "metadata": {
    "editable": true
   },
   "source": [
    "You can use the functionality included in scikit-learn. If you feel for it, you can use your own program and define functions which compute the above two functions. \n",
    "Discuss the meaning of these results. Try also to vary the coefficient in front of the added stochastic noise term and discuss the quality of the fits."
   ]
  },
  {
   "cell_type": "markdown",
   "id": "2e722cc6-6bf4-4682-8b41-8888217c2e28",
   "metadata": {},
   "source": [
    "**Solution**"
   ]
  },
  {
   "cell_type": "code",
   "execution_count": 6,
   "id": "33c351f7-4a45-4ce3-a8d3-14d71457f6c9",
   "metadata": {},
   "outputs": [
    {
     "name": "stdout",
     "output_type": "stream",
     "text": [
      "MSE for fitted beta\n",
      "9.68564157563966e-05\n",
      "MSE with sklearn fitted beta\n",
      "4.009348465955878\n",
      "R2 score for fitted beta\n",
      "0.9999585734893831\n",
      "R2 with sklearn fitted beta\n",
      "-0.7148406276920654\n"
     ]
    }
   ],
   "source": [
    "from sklearn.metrics import mean_squared_error, r2_score\n",
    "\n",
    "y_tilde1 = X @ Beta\n",
    "y_tilde2 = X @ skl.coef_.T\n",
    "print(\"MSE for fitted beta\")\n",
    "print(mean_squared_error(y,y_tilde1))\n",
    "print(\"MSE with sklearn fitted beta\")\n",
    "print(mean_squared_error(y,y_tilde2))\n",
    "print(\"R2 score for fitted beta\")\n",
    "print(r2_score(y,y_tilde1))\n",
    "print(\"R2 with sklearn fitted beta\")\n",
    "print(r2_score(y,y_tilde2))"
   ]
  },
  {
   "cell_type": "markdown",
   "id": "894ce732-9949-48c3-b109-f47c00286c9d",
   "metadata": {},
   "source": [
    "The lower the coefficient in front of the stochastic noise is, the lower, then, the closer $MSE$ becomes and $R^2$ becomes closer to $1$. That is, if $MSE = 0$ and $R^2 = 1$ then we have a prefect predictor $\\tilde{y}$,i.e. $\\tilde{y} = y$"
   ]
  },
  {
   "cell_type": "markdown",
   "id": "b35264cd-b682-42c0-a0fe-1498b78f43f0",
   "metadata": {},
   "source": [
    "________________________________________________________________________________________________________________________________________________________"
   ]
  },
  {
   "cell_type": "markdown",
   "id": "b6f10ab9",
   "metadata": {
    "editable": true
   },
   "source": [
    "## Exercise 3: Split data in test and training data\n",
    "\n",
    "In this exercise we want you to to compute the MSE for the training\n",
    "data and the test data as function of the complexity of a polynomial,\n",
    "that is the degree of a given polynomial.  \n",
    "\n",
    "The aim is to reproduce Figure 2.11 of [Hastie et al](https://github.com/CompPhysics/MLErasmus/blob/master/doc/Textbooks/elementsstat.pdf).\n",
    "Feel free to read the discussions leading to figure 2.11 of Hastie et al. \n",
    "\n",
    "Our data is defined by $x\\in [-3,3]$ with a total of for example $n=100$ data points. You should try to vary the number of data points $n$ in your analysis."
   ]
  },
  {
   "cell_type": "code",
   "execution_count": 2,
   "id": "285159ae",
   "metadata": {
    "collapsed": false,
    "editable": true,
    "jupyter": {
     "outputs_hidden": false
    }
   },
   "outputs": [],
   "source": [
    "import numpy as np\n",
    "\n",
    "np.random.seed(100)\n",
    "n = 100\n",
    "# Make data set.\n",
    "x = np.linspace(-3, 3, n).reshape(-1, 1)\n",
    "y = np.exp(-x**2) + 1.5 * np.exp(-(x-2)**2)+ np.random.normal(0, 0.1, x.shape)"
   ]
  },
  {
   "cell_type": "markdown",
   "id": "c2840fc9",
   "metadata": {
    "editable": true
   },
   "source": [
    "where $y$ is the function we want to fit with a given polynomial."
   ]
  },
  {
   "cell_type": "markdown",
   "id": "9dbda275",
   "metadata": {
    "editable": true
   },
   "source": [
    "**a)**\n",
    "Write a first code which sets up a design matrix $X$ defined by a fifth-order polynomial and split your data set in training and test data."
   ]
  },
  {
   "cell_type": "markdown",
   "id": "0e72ff6c-c08a-4d59-9664-ec1c60c97ab9",
   "metadata": {},
   "source": [
    "**Solution:**"
   ]
  },
  {
   "cell_type": "code",
   "execution_count": 6,
   "id": "94c41c95-ca5b-423d-aaee-0b69b70d669c",
   "metadata": {},
   "outputs": [
    {
     "name": "stdout",
     "output_type": "stream",
     "text": [
      "(100, 6)\n"
     ]
    }
   ],
   "source": [
    "from sklearn.model_selection import train_test_split\n",
    "from sklearn.preprocessing import StandardScaler\n",
    "\n",
    "X = np.zeros((len(x),6))\n",
    "for k in range(5):\n",
    "    for i in range(len(x)):\n",
    "        X[i,k] = np.squeeze(x[i])**k\n",
    "print(X.shape)\n",
    "\n",
    "X_train, X_test, y_train, y_test = train_test_split(X,y,test_size = 0.2)"
   ]
  },
  {
   "cell_type": "markdown",
   "id": "31577bfe-fe18-44e9-b6ac-f0e5c15c3796",
   "metadata": {},
   "source": [
    "________________________________________________________________________________________________________________________________________________________"
   ]
  },
  {
   "cell_type": "markdown",
   "id": "824dba6f",
   "metadata": {
    "editable": true
   },
   "source": [
    "**b)**\n",
    "Write thereafter (using either **scikit-learn** or your matrix inversion code using for example **numpy**)\n",
    "and perform an ordinary least squares fitting and compute the mean squared error for the training data and the test data. These calculations should apply to a model given by a fifth-order polynomial.  If you compare your own code with _scikit_learn_, not that the latter does not include by default the intercept. See the discussions on scaling your data in the slides for this week."
   ]
  },
  {
   "cell_type": "markdown",
   "id": "55f403c4-1c92-4c99-8aa2-96d9f1134ff3",
   "metadata": {},
   "source": [
    "**Solution**"
   ]
  },
  {
   "cell_type": "code",
   "execution_count": 7,
   "id": "a1bbeec9-c008-4c89-b077-3f1d3024fb0a",
   "metadata": {},
   "outputs": [
    {
     "name": "stdout",
     "output_type": "stream",
     "text": [
      "MSE for the scaled training data: 0.5064982013542728\n",
      "MSE for the scaled test data: 0.4458382160958475\n",
      "MSE for the training data: 0.660994599419898\n",
      "MSE for the test data: 0.5889364297224765\n"
     ]
    }
   ],
   "source": [
    "from sklearn.preprocessing import StandardScaler\n",
    "from sklearn.metrics import mean_squared_error\n",
    "import sklearn.linear_model as skl\n",
    "\n",
    "scaler = StandardScaler()\n",
    "scaler.fit(X_train)\n",
    "X_trainScaled = scaler.transform(X_train)\n",
    "X_testScaled = scaler.transform(X_test)\n",
    "\n",
    "#Linear regression with the data scaled\n",
    "lin = skl.LinearRegression().fit(X_trainScaled,y_train)\n",
    "beta = lin.coef_.T\n",
    "\n",
    "llin = skl.LinearRegression().fit(X_train, y_train)\n",
    "bbeta = llin.coef_.T\n",
    "\n",
    "#Prediction based on the scaled data\n",
    "y_tilde = X_trainScaled @ beta\n",
    "print(f\"MSE for the scaled training data: {mean_squared_error(y_train,y_tilde)}\")\n",
    "y_predict = X_testScaled @ beta\n",
    "print(f\"MSE for the scaled test data: {mean_squared_error(y_test,y_predict)}\")\n",
    "#Prediction based on the non-scaled data\n",
    "Y_tilde = X_train @ bbeta\n",
    "Y_predict = X_test @ bbeta\n",
    "print(f\"MSE for the training data: {mean_squared_error(y_train,Y_tilde)}\")\n",
    "print(f\"MSE for the test data: {mean_squared_error(y_test,Y_predict)}\")"
   ]
  },
  {
   "cell_type": "markdown",
   "id": "3dba5f8b-9ba7-4f83-8470-8ca3bfe3fb7f",
   "metadata": {},
   "source": [
    "The prediction is much better when the data was scaled."
   ]
  },
  {
   "cell_type": "markdown",
   "id": "174f0e6c-91ae-4e5e-892a-9e970cef1150",
   "metadata": {},
   "source": [
    "________________________________________________________________________________________________________________________________________________________"
   ]
  },
  {
   "cell_type": "markdown",
   "id": "a3f059cf",
   "metadata": {
    "editable": true
   },
   "source": [
    "**c)**\n",
    "Add now a model which allows you to make polynomials up to degree $15$.  Perform a standard OLS fitting of the training data and compute the MSE for the training and test data and plot both test and training data MSE as functions of the polynomial degree. Compare what you see with Figure 2.11 of Hastie et al. Comment your results. For which polynomial degree do you find an optimal MSE (smallest value)?"
   ]
  },
  {
   "cell_type": "markdown",
   "id": "62dd3fbf-b887-4448-a1c4-bf7baf038416",
   "metadata": {},
   "source": [
    "**Solution**"
   ]
  },
  {
   "cell_type": "markdown",
   "id": "2c95f3ed-f1a1-4412-bd0f-4c4ed80bae31",
   "metadata": {},
   "source": [
    "This code below is borrowed from Morten's notes under the section 'Testing the Means Squared Error as function of Complexity'.\n",
    "\n",
    "I made two versions, one to show the graph given maximum degree and another where the degree showed the minimum test error."
   ]
  },
  {
   "cell_type": "code",
   "execution_count": 16,
   "id": "4e4e134e-368c-487e-8ffa-39ae846190ee",
   "metadata": {},
   "outputs": [
    {
     "data": {
      "image/png": "[encoded data removed]",
      "text/plain": [
       "<Figure size 640x480 with 1 Axes>"
      ]
     },
     "metadata": {},
     "output_type": "display_data"
    }
   ],
   "source": [
    "import matplotlib.pyplot as plt\n",
    "from sklearn.preprocessing import PolynomialFeatures\n",
    "from sklearn.pipeline import make_pipeline\n",
    "\n",
    "\n",
    "degree = 15\n",
    "TrainError = np.zeros(degree)\n",
    "TestError = np.zeros(degree)\n",
    "polydegree = np.zeros(degree)\n",
    "\n",
    "\n",
    "for d in range(degree):\n",
    "    model = make_pipeline(PolynomialFeatures(degree=d), LinearRegression(fit_intercept=False))\n",
    "    clf = model.fit(X_trainScaled,y_train)\n",
    "    y_fit = clf.predict(X_trainScaled)\n",
    "    y_pred = clf.predict(X_testScaled) \n",
    "    polydegree[d] = d\n",
    "    TestError[d] = np.mean( np.mean((y_test - y_pred)**2) )\n",
    "    TrainError[d] = np.mean( np.mean((y_train - y_fit)**2) )\n",
    "\n",
    "plt.plot(polydegree, TestError, label='Test Error')\n",
    "plt.plot(polydegree, TrainError, label='Train Error')\n",
    "plt.legend()\n",
    "plt.show()"
   ]
  },
  {
   "cell_type": "code",
   "execution_count": 18,
   "id": "761f55c5-ca21-4b2f-9c22-d2f28e955608",
   "metadata": {},
   "outputs": [
    {
     "data": {
      "image/png": "[encoded data removed]",
      "text/plain": [
       "<Figure size 640x480 with 1 Axes>"
      ]
     },
     "metadata": {},
     "output_type": "display_data"
    }
   ],
   "source": [
    "degree = 4\n",
    "TrainError = np.zeros(degree)\n",
    "TestError = np.zeros(degree)\n",
    "polydegree = np.zeros(degree)\n",
    "\n",
    "\n",
    "for d in range(degree):\n",
    "    model = make_pipeline(PolynomialFeatures(degree=d), LinearRegression(fit_intercept=False))\n",
    "    clf = model.fit(X_trainScaled,y_train)\n",
    "    y_fit = clf.predict(X_trainScaled)\n",
    "    y_pred = clf.predict(X_testScaled) \n",
    "    polydegree[d] = d\n",
    "    TestError[d] = np.mean( np.mean((y_test - y_pred)**2) )\n",
    "    TrainError[d] = np.mean( np.mean((y_train - y_fit)**2) )\n",
    "\n",
    "plt.plot(polydegree, TestError, label='Test Error')\n",
    "plt.plot(polydegree, TrainError, label='Train Error')\n",
    "plt.legend()\n",
    "plt.show()"
   ]
  }
 ],
 "metadata": {
  "kernelspec": {
   "display_name": "Python 3 (ipykernel)",
   "language": "python",
   "name": "python3"
  },
  "language_info": {
   "codemirror_mode": {
    "name": "ipython",
    "version": 3
   },
   "file_extension": ".py",
   "mimetype": "text/x-python",
   "name": "python",
   "nbconvert_exporter": "python",
   "pygments_lexer": "ipython3",
   "version": "3.10.16"
  }
 },
 "nbformat": 4,
 "nbformat_minor": 5
}
