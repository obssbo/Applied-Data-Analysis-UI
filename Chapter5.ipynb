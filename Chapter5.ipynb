{
 "cells": [
  {
   "cell_type": "markdown",
   "id": "d8edf93c-6d74-48ec-8685-0c19c23546a1",
   "metadata": {},
   "source": [
    "**5.5**\n",
    "\n",
    "In Chapter 4, we used logistic regression to predict the probability of\n",
    " default using income and balance on the Default data set. We will\n",
    " now estimate the test error of this logistic regression model using the\n",
    " validation set approach. Do not forget to set a random seed before\n",
    " beginning your analysis."
   ]
  },
  {
   "cell_type": "code",
   "execution_count": 124,
   "id": "8b6d64b7-baa1-4125-9dc1-74ad01683f2f",
   "metadata": {},
   "outputs": [
    {
     "data": {
      "text/html": [
       "<div>\n",
       "<style scoped>\n",
       "    .dataframe tbody tr th:only-of-type {\n",
       "        vertical-align: middle;\n",
       "    }\n",
       "\n",
       "    .dataframe tbody tr th {\n",
       "        vertical-align: top;\n",
       "    }\n",
       "\n",
       "    .dataframe thead th {\n",
       "        text-align: right;\n",
       "    }\n",
       "</style>\n",
       "<table border=\"1\" class=\"dataframe\">\n",
       "  <thead>\n",
       "    <tr style=\"text-align: right;\">\n",
       "      <th></th>\n",
       "      <th>default</th>\n",
       "      <th>student</th>\n",
       "      <th>balance</th>\n",
       "      <th>income</th>\n",
       "      <th>default01</th>\n",
       "    </tr>\n",
       "  </thead>\n",
       "  <tbody>\n",
       "    <tr>\n",
       "      <th>0</th>\n",
       "      <td>No</td>\n",
       "      <td>No</td>\n",
       "      <td>729.526495</td>\n",
       "      <td>44361.625074</td>\n",
       "      <td>0</td>\n",
       "    </tr>\n",
       "    <tr>\n",
       "      <th>1</th>\n",
       "      <td>No</td>\n",
       "      <td>Yes</td>\n",
       "      <td>817.180407</td>\n",
       "      <td>12106.134700</td>\n",
       "      <td>0</td>\n",
       "    </tr>\n",
       "    <tr>\n",
       "      <th>2</th>\n",
       "      <td>No</td>\n",
       "      <td>No</td>\n",
       "      <td>1073.549164</td>\n",
       "      <td>31767.138947</td>\n",
       "      <td>0</td>\n",
       "    </tr>\n",
       "    <tr>\n",
       "      <th>3</th>\n",
       "      <td>No</td>\n",
       "      <td>No</td>\n",
       "      <td>529.250605</td>\n",
       "      <td>35704.493935</td>\n",
       "      <td>0</td>\n",
       "    </tr>\n",
       "    <tr>\n",
       "      <th>4</th>\n",
       "      <td>No</td>\n",
       "      <td>No</td>\n",
       "      <td>785.655883</td>\n",
       "      <td>38463.495879</td>\n",
       "      <td>0</td>\n",
       "    </tr>\n",
       "    <tr>\n",
       "      <th>...</th>\n",
       "      <td>...</td>\n",
       "      <td>...</td>\n",
       "      <td>...</td>\n",
       "      <td>...</td>\n",
       "      <td>...</td>\n",
       "    </tr>\n",
       "    <tr>\n",
       "      <th>9995</th>\n",
       "      <td>No</td>\n",
       "      <td>No</td>\n",
       "      <td>711.555020</td>\n",
       "      <td>52992.378914</td>\n",
       "      <td>0</td>\n",
       "    </tr>\n",
       "    <tr>\n",
       "      <th>9996</th>\n",
       "      <td>No</td>\n",
       "      <td>No</td>\n",
       "      <td>757.962918</td>\n",
       "      <td>19660.721768</td>\n",
       "      <td>0</td>\n",
       "    </tr>\n",
       "    <tr>\n",
       "      <th>9997</th>\n",
       "      <td>No</td>\n",
       "      <td>No</td>\n",
       "      <td>845.411989</td>\n",
       "      <td>58636.156984</td>\n",
       "      <td>0</td>\n",
       "    </tr>\n",
       "    <tr>\n",
       "      <th>9998</th>\n",
       "      <td>No</td>\n",
       "      <td>No</td>\n",
       "      <td>1569.009053</td>\n",
       "      <td>36669.112365</td>\n",
       "      <td>0</td>\n",
       "    </tr>\n",
       "    <tr>\n",
       "      <th>9999</th>\n",
       "      <td>No</td>\n",
       "      <td>Yes</td>\n",
       "      <td>200.922183</td>\n",
       "      <td>16862.952321</td>\n",
       "      <td>0</td>\n",
       "    </tr>\n",
       "  </tbody>\n",
       "</table>\n",
       "<p>10000 rows × 5 columns</p>\n",
       "</div>"
      ],
      "text/plain": [
       "     default student      balance        income  default01\n",
       "0         No      No   729.526495  44361.625074          0\n",
       "1         No     Yes   817.180407  12106.134700          0\n",
       "2         No      No  1073.549164  31767.138947          0\n",
       "3         No      No   529.250605  35704.493935          0\n",
       "4         No      No   785.655883  38463.495879          0\n",
       "...      ...     ...          ...           ...        ...\n",
       "9995      No      No   711.555020  52992.378914          0\n",
       "9996      No      No   757.962918  19660.721768          0\n",
       "9997      No      No   845.411989  58636.156984          0\n",
       "9998      No      No  1569.009053  36669.112365          0\n",
       "9999      No     Yes   200.922183  16862.952321          0\n",
       "\n",
       "[10000 rows x 5 columns]"
      ]
     },
     "execution_count": 124,
     "metadata": {},
     "output_type": "execute_result"
    }
   ],
   "source": [
    "import random\n",
    "from ISLP import load_data\n",
    "import statsmodels.api as sm\n",
    "from ISLP.models import (ModelSpec as MS,summarize)\n",
    "import numpy as np\n",
    "from matplotlib.pyplot import subplots\n",
    "import matplotlib.pyplot as plt\n",
    "import seaborn as sns\n",
    "import pandas as pd\n",
    "from ISLP import confusion_table\n",
    "from ISLP.models import contrast\n",
    "from sklearn.discriminant_analysis import \\\n",
    "    (LinearDiscriminantAnalysis as LDA,\n",
    "    QuadraticDiscriminantAnalysis as QDA)\n",
    "from sklearn.metrics import confusion_matrix, accuracy_score\n",
    "from sklearn.naive_bayes import GaussianNB\n",
    "from sklearn.neighbors import KNeighborsClassifier\n",
    "from sklearn.preprocessing import StandardScaler\n",
    "from sklearn.model_selection import train_test_split\n",
    "from sklearn.linear_model import LogisticRegression\n",
    "from sklearn.base import clone\n",
    "\n",
    "random.seed(1000)\n",
    "default = load_data('Default')\n",
    "X = default[['balance','income']]\n",
    "default['default01'] = np.where(default.default == 'No',0,1)\n",
    "y = default['default01']\n",
    "default"
   ]
  },
  {
   "cell_type": "markdown",
   "id": "e7d4fc88-c4bf-4e52-98fb-ca2258d75bfc",
   "metadata": {},
   "source": [
    "a.\n",
    "\n",
    " Fit a logistic regression model that uses income and balance to\n",
    " predict $\\verb|default|$."
   ]
  },
  {
   "cell_type": "code",
   "execution_count": 125,
   "id": "db13d27b-f704-4dc0-909e-aa0746aa7b2e",
   "metadata": {},
   "outputs": [
    {
     "data": {
      "text/plain": [
       "array([[5.64710265e-03, 2.08089741e-05]])"
      ]
     },
     "execution_count": 125,
     "metadata": {},
     "output_type": "execute_result"
    }
   ],
   "source": [
    "mod = LogisticRegression(random_state=0).fit(X,y)\n",
    "mod.coef_"
   ]
  },
  {
   "cell_type": "markdown",
   "id": "a971de37-ba76-4de2-9210-262f882b35a4",
   "metadata": {},
   "source": [
    "b.\n",
    "\n",
    "Using the validation set approach, estimate the test error of this\n",
    " model. In order to do this, you must perform the following steps:"
   ]
  },
  {
   "cell_type": "markdown",
   "id": "4e206bb8-e607-46e1-94e5-bfad6c566d7e",
   "metadata": {},
   "source": [
    "i.  Split the sample set into a training set and a validation set"
   ]
  },
  {
   "cell_type": "code",
   "execution_count": 126,
   "id": "692e3449-c578-4b46-b3a6-917cc94b62ee",
   "metadata": {},
   "outputs": [
    {
     "data": {
      "text/plain": [
       "(10000, 5)"
      ]
     },
     "execution_count": 126,
     "metadata": {},
     "output_type": "execute_result"
    }
   ],
   "source": [
    "default.shape"
   ]
  },
  {
   "cell_type": "code",
   "execution_count": 127,
   "id": "bbe2908a-932e-40a0-a01c-6266d1a74471",
   "metadata": {},
   "outputs": [],
   "source": [
    "default_train, default_valid = train_test_split(default,test_size=5000,random_state=0)"
   ]
  },
  {
   "cell_type": "markdown",
   "id": "7db3fe8a-8b17-4a4a-a35c-b8d3a4bf7974",
   "metadata": {},
   "source": [
    "ii.  Fit a multiple logistic regression model using only the training observations."
   ]
  },
  {
   "cell_type": "code",
   "execution_count": 128,
   "id": "ff99ac7d-fb8b-4c00-b4c7-2a082cf127fa",
   "metadata": {},
   "outputs": [],
   "source": [
    "y_train = default_train['default01']\n",
    "X_train = default_train[['balance','income']]\n",
    "model = LogisticRegression(random_state=0).fit(X_train,y_train)"
   ]
  },
  {
   "cell_type": "markdown",
   "id": "01335c3c-f4b3-42f5-b85b-f52b37e68ad4",
   "metadata": {},
   "source": [
    "iii.   Obtain a prediction of default status for each individual in\n",
    " the validation set by computing the posterior probability of\n",
    " default for that individual, and classifying the individual to\n",
    " the default category if the posterior probability is greater\n",
    " than 0.5."
   ]
  },
  {
   "cell_type": "code",
   "execution_count": 129,
   "id": "da38a391-f2ae-4833-ab9b-edde0861cf2a",
   "metadata": {},
   "outputs": [],
   "source": [
    "X_valid = default_valid[['balance','income']]\n",
    "y_valid = default_valid['default01']\n",
    "valid_pred = model.predict(X_valid)\n",
    "labels = np.array([0]*5000)\n",
    "labels[valid_pred>0.5] = 1"
   ]
  },
  {
   "cell_type": "markdown",
   "id": "2abc12ed-a946-4774-a4fb-76879119e450",
   "metadata": {},
   "source": [
    "iv.  Compute the validation set error, which is the fraction of\n",
    " the observations in the validation set that are misclassified."
   ]
  },
  {
   "cell_type": "code",
   "execution_count": 130,
   "id": "cfbc1831-df64-41ca-9f8a-0044f11dd2b1",
   "metadata": {},
   "outputs": [
    {
     "data": {
      "text/plain": [
       "0.029000000000000026"
      ]
     },
     "execution_count": 130,
     "metadata": {},
     "output_type": "execute_result"
    }
   ],
   "source": [
    "1-accuracy_score(labels,y_valid)"
   ]
  },
  {
   "cell_type": "markdown",
   "id": "04aa8da9-2235-4d58-8947-fe5eb70538d9",
   "metadata": {},
   "source": [
    "c.\n",
    "\n",
    "Repeat the process in (b) three times, using three different splits\n",
    " of the observations into a training set and a validation set. Comment on the results obtained.\n"
   ]
  },
  {
   "cell_type": "code",
   "execution_count": 131,
   "id": "b91b9b2c-9ddd-4548-bbaf-f7f4d1ec889e",
   "metadata": {},
   "outputs": [
    {
     "data": {
      "text/plain": [
       "0.028000000000000025"
      ]
     },
     "execution_count": 131,
     "metadata": {},
     "output_type": "execute_result"
    }
   ],
   "source": [
    "#test size 20%\n",
    "default_train, default_valid = train_test_split(default,test_size=2000,random_state=0)\n",
    "\n",
    "y_train = default_train['default01']\n",
    "X_train = default_train[['balance','income']]\n",
    "model = LogisticRegression(random_state=0).fit(X_train,y_train)\n",
    "\n",
    "X_valid = default_valid[['balance','income']]\n",
    "y_valid = default_valid['default01']\n",
    "valid_pred = model.predict(X_valid)\n",
    "labels = np.array([0]*2000)\n",
    "labels[valid_pred>0.5] = 1\n",
    "\n",
    "1-np.mean(labels == y_valid)"
   ]
  },
  {
   "cell_type": "code",
   "execution_count": 132,
   "id": "03fda244-7aa9-408e-b1ac-feb1e511cb81",
   "metadata": {},
   "outputs": [
    {
     "data": {
      "text/plain": [
       "0.030000000000000027"
      ]
     },
     "execution_count": 132,
     "metadata": {},
     "output_type": "execute_result"
    }
   ],
   "source": [
    "#test size = 1000\n",
    "default_train, default_valid = train_test_split(default,test_size=1000,random_state=0)\n",
    "\n",
    "y_train = default_train['default01']\n",
    "X_train = default_train[['balance','income']]\n",
    "model = LogisticRegression(random_state=0).fit(X_train,y_train)\n",
    "\n",
    "X_valid = default_valid[['balance','income']]\n",
    "y_valid = default_valid['default01']\n",
    "valid_pred = model.predict(X_valid)\n",
    "labels = np.array([0]*default_valid.shape[0])\n",
    "labels[valid_pred>0.5] = 1\n",
    "\n",
    "1-np.mean(labels == y_valid)"
   ]
  },
  {
   "cell_type": "code",
   "execution_count": 133,
   "id": "f5f18bcd-9220-4952-a7fc-a1be4f27990f",
   "metadata": {},
   "outputs": [
    {
     "data": {
      "text/plain": [
       "0.02752293577981646"
      ]
     },
     "execution_count": 133,
     "metadata": {},
     "output_type": "execute_result"
    }
   ],
   "source": [
    "#test size = 2180\n",
    "default_train, default_valid = train_test_split(default,test_size=2180,random_state=0)\n",
    "\n",
    "y_train = default_train['default01']\n",
    "X_train = default_train[['balance','income']]\n",
    "model = LogisticRegression(random_state=0).fit(X_train,y_train)\n",
    "\n",
    "X_valid = default_valid[['balance','income']]\n",
    "y_valid = default_valid['default01']\n",
    "valid_pred = model.predict(X_valid)\n",
    "labels = np.array([0]*default_valid.shape[0])\n",
    "labels[valid_pred>0.5] = 1\n",
    "\n",
    "1-np.mean(labels == y_valid)"
   ]
  },
  {
   "cell_type": "markdown",
   "id": "d38b7841-153f-4e17-a9d0-9557866eb4ba",
   "metadata": {},
   "source": [
    "d.\n",
    "\n",
    "Now consider a logistic regression model that predicts the probability of default using income, balance, and a dummy variable\n",
    " for student. Estimate the test error for this model using the validation set approach. Comment on whether or not including a\n",
    " dummy variable for student leads to a reduction in the test error\n",
    " rate."
   ]
  },
  {
   "cell_type": "code",
   "execution_count": 134,
   "id": "98316e83-1847-4c9b-b4c2-10934d4dbf8e",
   "metadata": {},
   "outputs": [
    {
     "data": {
      "text/plain": [
       "0.02939999999999998"
      ]
     },
     "execution_count": 134,
     "metadata": {},
     "output_type": "execute_result"
    }
   ],
   "source": [
    "default['student01'] = np.where(default.student == 'Yes',1,0)\n",
    "default_train, default_valid = train_test_split(default, test_size=5000, random_state=0)\n",
    "\n",
    "name = MS(['balance','income','student01'])\n",
    "X_train = default_train[['balance','income','student01']]\n",
    "y_train = default_train['default01']\n",
    "mod = LogisticRegression(random_state=0).fit(X_train,y_train)\n",
    "\n",
    "X_valid = default_valid[['balance','income','student01']]\n",
    "y_valid = default_valid['default01']\n",
    "valid_pred = mod.predict(X_valid)\n",
    "labels = np.array([0]*default_valid.shape[0])\n",
    "labels[valid_pred>0.5] = 1\n",
    "\n",
    "1-np.mean(labels == y_valid)"
   ]
  },
  {
   "cell_type": "code",
   "execution_count": 135,
   "id": "11603b1d-469c-4de9-97d5-edd226aa4a25",
   "metadata": {},
   "outputs": [
    {
     "data": {
      "text/plain": [
       "<Axes: >"
      ]
     },
     "execution_count": 135,
     "metadata": {},
     "output_type": "execute_result"
    },
    {
     "data": {
      "image/png": "[encoded data removed]",
      "text/plain": [
       "<Figure size 640x480 with 2 Axes>"
      ]
     },
     "metadata": {},
     "output_type": "display_data"
    }
   ],
   "source": [
    "def_new = default.columns.drop('default','student')\n",
    "def_new = MS(def_new).fit_transform(default)\n",
    "X = def_new[['intercept','student01','balance','income']]\n",
    "y = default['default01']\n",
    "sns.heatmap(def_new.corr(),annot=True)"
   ]
  },
  {
   "cell_type": "code",
   "execution_count": 136,
   "id": "3b414826-0e12-472d-97b2-3770273510ca",
   "metadata": {},
   "outputs": [
    {
     "data": {
      "text/html": [
       "<table class=\"simpletable\">\n",
       "<caption>Generalized Linear Model Regression Results</caption>\n",
       "<tr>\n",
       "  <th>Dep. Variable:</th>       <td>default01</td>    <th>  No. Observations:  </th>  <td> 10000</td> \n",
       "</tr>\n",
       "<tr>\n",
       "  <th>Model:</th>                  <td>GLM</td>       <th>  Df Residuals:      </th>  <td>  9996</td> \n",
       "</tr>\n",
       "<tr>\n",
       "  <th>Model Family:</th>        <td>Binomial</td>     <th>  Df Model:          </th>  <td>     3</td> \n",
       "</tr>\n",
       "<tr>\n",
       "  <th>Link Function:</th>         <td>Logit</td>      <th>  Scale:             </th> <td>  1.0000</td>\n",
       "</tr>\n",
       "<tr>\n",
       "  <th>Method:</th>                <td>IRLS</td>       <th>  Log-Likelihood:    </th> <td> -785.77</td>\n",
       "</tr>\n",
       "<tr>\n",
       "  <th>Date:</th>            <td>Tue, 11 Feb 2025</td> <th>  Deviance:          </th> <td>  1571.5</td>\n",
       "</tr>\n",
       "<tr>\n",
       "  <th>Time:</th>                <td>17:27:17</td>     <th>  Pearson chi2:      </th> <td>7.00e+03</td>\n",
       "</tr>\n",
       "<tr>\n",
       "  <th>No. Iterations:</th>          <td>9</td>        <th>  Pseudo R-squ. (CS):</th>  <td>0.1262</td> \n",
       "</tr>\n",
       "<tr>\n",
       "  <th>Covariance Type:</th>     <td>nonrobust</td>    <th>                     </th>     <td> </td>   \n",
       "</tr>\n",
       "</table>\n",
       "<table class=\"simpletable\">\n",
       "<tr>\n",
       "      <td></td>         <th>coef</th>     <th>std err</th>      <th>z</th>      <th>P>|z|</th>  <th>[0.025</th>    <th>0.975]</th>  \n",
       "</tr>\n",
       "<tr>\n",
       "  <th>intercept</th> <td>  -10.8690</td> <td>    0.492</td> <td>  -22.079</td> <td> 0.000</td> <td>  -11.834</td> <td>   -9.904</td>\n",
       "</tr>\n",
       "<tr>\n",
       "  <th>student01</th> <td>   -0.6468</td> <td>    0.236</td> <td>   -2.738</td> <td> 0.006</td> <td>   -1.110</td> <td>   -0.184</td>\n",
       "</tr>\n",
       "<tr>\n",
       "  <th>balance</th>   <td>    0.0057</td> <td>    0.000</td> <td>   24.737</td> <td> 0.000</td> <td>    0.005</td> <td>    0.006</td>\n",
       "</tr>\n",
       "<tr>\n",
       "  <th>income</th>    <td> 3.033e-06</td> <td>  8.2e-06</td> <td>    0.370</td> <td> 0.712</td> <td> -1.3e-05</td> <td> 1.91e-05</td>\n",
       "</tr>\n",
       "</table>"
      ],
      "text/latex": [
       "\\begin{center}\n",
       "\\begin{tabular}{lclc}\n",
       "\\toprule\n",
       "\\textbf{Dep. Variable:}   &    default01     & \\textbf{  No. Observations:  } &    10000    \\\\\n",
       "\\textbf{Model:}           &       GLM        & \\textbf{  Df Residuals:      } &     9996    \\\\\n",
       "\\textbf{Model Family:}    &     Binomial     & \\textbf{  Df Model:          } &        3    \\\\\n",
       "\\textbf{Link Function:}   &      Logit       & \\textbf{  Scale:             } &    1.0000   \\\\\n",
       "\\textbf{Method:}          &       IRLS       & \\textbf{  Log-Likelihood:    } &   -785.77   \\\\\n",
       "\\textbf{Date:}            & Tue, 11 Feb 2025 & \\textbf{  Deviance:          } &    1571.5   \\\\\n",
       "\\textbf{Time:}            &     17:27:17     & \\textbf{  Pearson chi2:      } &  7.00e+03   \\\\\n",
       "\\textbf{No. Iterations:}  &        9         & \\textbf{  Pseudo R-squ. (CS):} &   0.1262    \\\\\n",
       "\\textbf{Covariance Type:} &    nonrobust     & \\textbf{                     } &             \\\\\n",
       "\\bottomrule\n",
       "\\end{tabular}\n",
       "\\begin{tabular}{lcccccc}\n",
       "                   & \\textbf{coef} & \\textbf{std err} & \\textbf{z} & \\textbf{P$> |$z$|$} & \\textbf{[0.025} & \\textbf{0.975]}  \\\\\n",
       "\\midrule\n",
       "\\textbf{intercept} &     -10.8690  &        0.492     &   -22.079  &         0.000        &      -11.834    &       -9.904     \\\\\n",
       "\\textbf{student01} &      -0.6468  &        0.236     &    -2.738  &         0.006        &       -1.110    &       -0.184     \\\\\n",
       "\\textbf{balance}   &       0.0057  &        0.000     &    24.737  &         0.000        &        0.005    &        0.006     \\\\\n",
       "\\textbf{income}    &    3.033e-06  &      8.2e-06     &     0.370  &         0.712        &     -1.3e-05    &     1.91e-05     \\\\\n",
       "\\bottomrule\n",
       "\\end{tabular}\n",
       "%\\caption{Generalized Linear Model Regression Results}\n",
       "\\end{center}"
      ],
      "text/plain": [
       "<class 'statsmodels.iolib.summary.Summary'>\n",
       "\"\"\"\n",
       "                 Generalized Linear Model Regression Results                  \n",
       "==============================================================================\n",
       "Dep. Variable:              default01   No. Observations:                10000\n",
       "Model:                            GLM   Df Residuals:                     9996\n",
       "Model Family:                Binomial   Df Model:                            3\n",
       "Link Function:                  Logit   Scale:                          1.0000\n",
       "Method:                          IRLS   Log-Likelihood:                -785.77\n",
       "Date:                Tue, 11 Feb 2025   Deviance:                       1571.5\n",
       "Time:                        17:27:17   Pearson chi2:                 7.00e+03\n",
       "No. Iterations:                     9   Pseudo R-squ. (CS):             0.1262\n",
       "Covariance Type:            nonrobust                                         \n",
       "==============================================================================\n",
       "                 coef    std err          z      P>|z|      [0.025      0.975]\n",
       "------------------------------------------------------------------------------\n",
       "intercept    -10.8690      0.492    -22.079      0.000     -11.834      -9.904\n",
       "student01     -0.6468      0.236     -2.738      0.006      -1.110      -0.184\n",
       "balance        0.0057      0.000     24.737      0.000       0.005       0.006\n",
       "income      3.033e-06    8.2e-06      0.370      0.712    -1.3e-05    1.91e-05\n",
       "==============================================================================\n",
       "\"\"\""
      ]
     },
     "execution_count": 136,
     "metadata": {},
     "output_type": "execute_result"
    }
   ],
   "source": [
    "glm=sm.GLM(y,X,family=sm.families.Binomial())\n",
    "res=glm.fit()\n",
    "res.summary()"
   ]
  },
  {
   "cell_type": "markdown",
   "id": "9fb6c17b-15c9-4447-a28b-73cb63bf1afe",
   "metadata": {},
   "source": [
    "No adding in a dummt variable that includes student, it doesn't reduce the test error it either remains the same or gets a little bit worse"
   ]
  },
  {
   "cell_type": "markdown",
   "id": "63673e6c-e84b-4e0a-8d46-f5fe7bde29bc",
   "metadata": {},
   "source": [
    "**5.6**\n",
    "\n",
    "We continue to consider the use of a logistic regression model to predict the probability of default using income and balance on the Default data set. In particular, we will now compute estimates for the standard errors of the income and balance logistic regression coefficients in two different ways: (1) using the bootstrap, and (2) using the standard formula for computing the standard errors in the sm.GLM() function. Do not forget to set a random seed before beginning your analysis."
   ]
  },
  {
   "cell_type": "code",
   "execution_count": 137,
   "id": "c4c9ef5a-ebb3-4c8c-ae8e-d395dd0135db",
   "metadata": {},
   "outputs": [],
   "source": [
    "import random\n",
    "from ISLP import load_data\n",
    "import statsmodels.api as sm\n",
    "from ISLP.models import (ModelSpec as MS,summarize)\n",
    "import numpy as np\n",
    "from matplotlib.pyplot import subplots\n",
    "import matplotlib.pyplot as plt\n",
    "import seaborn as sns\n",
    "import pandas as pd\n",
    "from ISLP import confusion_table\n",
    "from ISLP.models import contrast\n",
    "from sklearn.discriminant_analysis import \\\n",
    "    (LinearDiscriminantAnalysis as LDA,\n",
    "    QuadraticDiscriminantAnalysis as QDA)\n",
    "from sklearn.metrics import confusion_matrix, accuracy_score\n",
    "from sklearn.naive_bayes import GaussianNB\n",
    "from sklearn.neighbors import KNeighborsClassifier\n",
    "from sklearn.preprocessing import StandardScaler\n",
    "from sklearn.model_selection import train_test_split\n",
    "from sklearn.linear_model import LogisticRegression\n",
    "from functools import partial\n",
    "\n",
    "random.seed(1000)\n",
    "default = load_data('Default')\n",
    "default['default01'] = np.where(default.default == 'Yes',1,0)"
   ]
  },
  {
   "cell_type": "markdown",
   "id": "1d0c09c9-303a-45cc-b6e1-b90a59955fd6",
   "metadata": {},
   "source": [
    "a.\n",
    "\n",
    "Using the summarize() and sm.GLM() functions, determine the\n",
    " estimated standard errors for the coefficients associated with\n",
    " income and balance in a multiple logistic regression model that\n",
    " uses both predictors."
   ]
  },
  {
   "cell_type": "code",
   "execution_count": 138,
   "id": "076aeea0-bab3-414a-8bd8-260eae1da9a6",
   "metadata": {},
   "outputs": [
    {
     "data": {
      "text/html": [
       "<div>\n",
       "<style scoped>\n",
       "    .dataframe tbody tr th:only-of-type {\n",
       "        vertical-align: middle;\n",
       "    }\n",
       "\n",
       "    .dataframe tbody tr th {\n",
       "        vertical-align: top;\n",
       "    }\n",
       "\n",
       "    .dataframe thead th {\n",
       "        text-align: right;\n",
       "    }\n",
       "</style>\n",
       "<table border=\"1\" class=\"dataframe\">\n",
       "  <thead>\n",
       "    <tr style=\"text-align: right;\">\n",
       "      <th></th>\n",
       "      <th>coef</th>\n",
       "      <th>std err</th>\n",
       "      <th>z</th>\n",
       "      <th>P&gt;|z|</th>\n",
       "    </tr>\n",
       "  </thead>\n",
       "  <tbody>\n",
       "    <tr>\n",
       "      <th>intercept</th>\n",
       "      <td>-11.540500</td>\n",
       "      <td>0.435000</td>\n",
       "      <td>-26.544</td>\n",
       "      <td>0.0</td>\n",
       "    </tr>\n",
       "    <tr>\n",
       "      <th>balance</th>\n",
       "      <td>0.005600</td>\n",
       "      <td>0.000000</td>\n",
       "      <td>24.835</td>\n",
       "      <td>0.0</td>\n",
       "    </tr>\n",
       "    <tr>\n",
       "      <th>income</th>\n",
       "      <td>0.000021</td>\n",
       "      <td>0.000005</td>\n",
       "      <td>4.174</td>\n",
       "      <td>0.0</td>\n",
       "    </tr>\n",
       "  </tbody>\n",
       "</table>\n",
       "</div>"
      ],
      "text/plain": [
       "                coef   std err       z  P>|z|\n",
       "intercept -11.540500  0.435000 -26.544    0.0\n",
       "balance     0.005600  0.000000  24.835    0.0\n",
       "income      0.000021  0.000005   4.174    0.0"
      ]
     },
     "execution_count": 138,
     "metadata": {},
     "output_type": "execute_result"
    }
   ],
   "source": [
    "allvars = MS(['balance','income'])\n",
    "X = allvars.fit_transform(default)\n",
    "y = default['default01']\n",
    "mod = sm.GLM(y,X, family=sm.families.Binomial()).fit()\n",
    "summarize(mod)"
   ]
  },
  {
   "cell_type": "code",
   "execution_count": 139,
   "id": "966cad10-f562-453b-aa00-98643bb71168",
   "metadata": {},
   "outputs": [
    {
     "data": {
      "text/plain": [
       "intercept    0.434772\n",
       "balance      0.000227\n",
       "income       0.000005\n",
       "dtype: float64"
      ]
     },
     "execution_count": 139,
     "metadata": {},
     "output_type": "execute_result"
    }
   ],
   "source": [
    "mod.bse"
   ]
  },
  {
   "cell_type": "markdown",
   "id": "371da3f8-8d9b-403f-b74c-e24d8a1d99ce",
   "metadata": {},
   "source": [
    "b.\n",
    "\n",
    "Write a function, boot_fn(), that takes as input the Default data\n",
    " set as well as an index of the observations, and that outputs\n",
    " the coefficient estimates for income and balance in the multiple\n",
    " logistic regression model."
   ]
  },
  {
   "cell_type": "code",
   "execution_count": 140,
   "id": "0d702bfa-3d3d-4bbf-a069-8495243a390c",
   "metadata": {},
   "outputs": [],
   "source": [
    "def Boot_fn(model_matrix, response, D, idx):\n",
    "    np.random.default_rng(0)\n",
    "    D_ = D.loc[idx]\n",
    "    Y_ = D_[response]\n",
    "    X_ = clone(model_matrix).fit_transform(D_)\n",
    "    return sm.GLM(Y_,X_,family=sm.families.Binomial()).fit().params"
   ]
  },
  {
   "cell_type": "code",
   "execution_count": 144,
   "id": "469e8554-2de6-4d20-b4b8-b82c858c5712",
   "metadata": {},
   "outputs": [],
   "source": [
    "def boot_SE(func, D, n=None, B=1000, seed=0):\n",
    "     rng = np.random.default_rng(seed)\n",
    "     first_, second_ = 0, 0\n",
    "     n = n or D.shape[0]\n",
    "     for _ in range(B):\n",
    "         idx = rng.choice(D.index, n, replace=True)\n",
    "         value = func(D, idx)\n",
    "         first_ += value\n",
    "         second_ += value**2\n",
    "     return np.sqrt(second_ / B- (first_ / B)**2)"
   ]
  },
  {
   "cell_type": "markdown",
   "id": "65a4b99d-6f7a-48b2-82bb-6e924bfaaeae",
   "metadata": {},
   "source": [
    "c.\n",
    "\n",
    "Following the bootstrap example in the lab, use your boot_fn()\n",
    " function to estimate the standard errors of the logistic regression\n",
    " coefficients for income and balance."
   ]
  },
  {
   "cell_type": "code",
   "execution_count": 141,
   "id": "6dbe541f-e2a7-4737-80dc-1f63af73101f",
   "metadata": {},
   "outputs": [],
   "source": [
    "hp_func = partial(Boot_fn, MS(['balance','income']),'default01')"
   ]
  },
  {
   "cell_type": "code",
   "execution_count": 142,
   "id": "deed4c50-ea23-43a3-8cda-6373a6c388a5",
   "metadata": {},
   "outputs": [
    {
     "data": {
      "text/plain": [
       "array([[-1.16416373e+01,  5.73877605e-03,  1.87775777e-05],\n",
       "       [-1.27619965e+01,  6.16200434e-03,  3.20594655e-05],\n",
       "       [-1.12850364e+01,  5.61832222e-03,  1.59221870e-05],\n",
       "       [-1.09975828e+01,  5.41168597e-03,  1.40723398e-05],\n",
       "       [-1.13173469e+01,  5.70216361e-03,  1.12728778e-05],\n",
       "       [-1.17516107e+01,  5.83443562e-03,  1.85974460e-05],\n",
       "       [-1.12884834e+01,  5.53172383e-03,  1.52822182e-05],\n",
       "       [-1.13883312e+01,  5.70192972e-03,  1.73720495e-05],\n",
       "       [-1.11098351e+01,  5.28010522e-03,  2.33921172e-05],\n",
       "       [-1.10505563e+01,  5.46083916e-03,  1.50937413e-05]])"
      ]
     },
     "execution_count": 142,
     "metadata": {},
     "output_type": "execute_result"
    }
   ],
   "source": [
    "rng = np.random.default_rng(0)\n",
    "np.array([hp_func(default,rng.choice(10000,10000,replace=True)) for _ in range(10)])"
   ]
  },
  {
   "cell_type": "markdown",
   "id": "13d0fd42-1972-437b-971c-a6127725d598",
   "metadata": {},
   "source": [
    "d.\n",
    "\n",
    "Comment on the estimated standard errors obtained using the\n",
    " sm.GLM() function and using the bootstrap."
   ]
  },
  {
   "cell_type": "code",
   "execution_count": 145,
   "id": "b63aea2a-d72e-4216-913b-777cf0eae674",
   "metadata": {},
   "outputs": [
    {
     "data": {
      "text/plain": [
       "intercept    0.425280\n",
       "balance      0.000227\n",
       "income       0.000005\n",
       "dtype: float64"
      ]
     },
     "execution_count": 145,
     "metadata": {},
     "output_type": "execute_result"
    }
   ],
   "source": [
    "hp_se = boot_SE(hp_func,default, B=1000, seed=10)\n",
    "hp_se"
   ]
  },
  {
   "cell_type": "markdown",
   "id": "0647d460-e188-4be4-af67-cbef45dbbab6",
   "metadata": {},
   "source": [
    "Both methods work well when approximating the standard error for each parameter. Although one is a bit faster while the other may be unoptimized in code."
   ]
  },
  {
   "cell_type": "markdown",
   "id": "f81102b0-b1ae-4764-9c24-7492b7488dd4",
   "metadata": {},
   "source": [
    "5.8\n",
    "\n",
    " We will now perform cross-validation on a simulated data set."
   ]
  },
  {
   "cell_type": "markdown",
   "id": "13291a93-96fb-474e-b1c4-ed2750368d56",
   "metadata": {},
   "source": [
    "a.\n",
    "\n",
    "Generate a simulated data set as follows:\n",
    "$\\verb|\n",
    " rng = np.random.default_rng(1) \n",
    " x = rng.normal(size=100)\n",
    " y = x- 2 * x**2 + rng.normal(size=100)\n",
    " |\n",
    "$\n",
    "  In this data set, what is n and what is p? Write out the model\n",
    " used to generate the data in equation form."
   ]
  },
  {
   "cell_type": "code",
   "execution_count": 72,
   "id": "6b051506-b2f9-4540-8a21-5d3926370991",
   "metadata": {},
   "outputs": [
    {
     "data": {
      "text/plain": [
       "100"
      ]
     },
     "execution_count": 72,
     "metadata": {},
     "output_type": "execute_result"
    }
   ],
   "source": [
    "import random\n",
    "from ISLP import load_data\n",
    "import statsmodels.api as sm\n",
    "from ISLP.models import (ModelSpec as MS,summarize)\n",
    "import numpy as np\n",
    "from matplotlib.pyplot import subplots\n",
    "import matplotlib.pyplot as plt\n",
    "import seaborn as sns\n",
    "import pandas as pd\n",
    "from ISLP.models import sklearn_sm\n",
    "from ISLP import confusion_table\n",
    "from ISLP.models import contrast\n",
    "from sklearn.discriminant_analysis import \\\n",
    "    (LinearDiscriminantAnalysis as LDA,\n",
    "    QuadraticDiscriminantAnalysis as QDA)\n",
    "from sklearn.model_selection import \\\n",
    "    (cross_validate,\n",
    "     KFold,\n",
    "     ShuffleSplit)\n",
    "from sklearn.metrics import confusion_matrix, accuracy_score\n",
    "from sklearn.naive_bayes import GaussianNB\n",
    "from sklearn.neighbors import KNeighborsClassifier\n",
    "from sklearn.preprocessing import StandardScaler\n",
    "from sklearn.model_selection import train_test_split\n",
    "from sklearn.linear_model import LogisticRegression\n",
    "from functools import partial\n",
    "\n",
    "rng = np.random.default_rng(1) \n",
    "x = rng.normal(size=100)\n",
    "y = x - 2 * x**2 + rng.normal(size=100)\n",
    "x.shape[0]"
   ]
  },
  {
   "cell_type": "markdown",
   "id": "b14435cd-604d-4ada-9897-87ff83317cf4",
   "metadata": {},
   "source": [
    "n denotes the number of observations, so for this example $n=100$. p denotes the number of predictor and for this example $p=1$"
   ]
  },
  {
   "cell_type": "markdown",
   "id": "49294ce4-cbfd-45da-a410-688a88e41576",
   "metadata": {},
   "source": [
    "$$\n",
    "\\textbf{X} = (\\textbf{X}_{1},\\textbf{X}_{2}, ... ,\\textbf{X}_{100})^T \n",
    "$$\n",
    "$$\n",
    "\\textbf{X}_i \\sim \\mathcal{N}(0,1), \\forall i\n",
    "$$\n",
    "$$\n",
    "\\mathbf{Y} = \\mathbf{X} - 2\\mathbf{X}^2\n",
    "$$"
   ]
  },
  {
   "cell_type": "markdown",
   "id": "c6898ecb-a87a-456d-9097-3d6572111d2a",
   "metadata": {},
   "source": [
    "b.\n",
    "\n",
    "Create a scatterplot of X against Y . Comment on what you find."
   ]
  },
  {
   "cell_type": "code",
   "execution_count": 63,
   "id": "652ed6c6-8e75-4739-9bbc-5094c688ebd4",
   "metadata": {},
   "outputs": [
    {
     "data": {
      "text/plain": [
       "<matplotlib.collections.PathCollection at 0x2d4440a53c0>"
      ]
     },
     "execution_count": 63,
     "metadata": {},
     "output_type": "execute_result"
    },
    {
     "data": {
      "image/png": "[encoded data removed]",
      "text/plain": [
       "<Figure size 640x480 with 1 Axes>"
      ]
     },
     "metadata": {},
     "output_type": "display_data"
    }
   ],
   "source": [
    "plt.scatter(x,y)"
   ]
  },
  {
   "cell_type": "markdown",
   "id": "db73d56c-222b-4fa1-a635-0a3a806c49d2",
   "metadata": {},
   "source": [
    "We see via the scatter plot that that it is definitely correlated and can be fit with a line such as $-x^2$"
   ]
  },
  {
   "cell_type": "markdown",
   "id": "41f8476a-f185-408a-bc75-5f1b54db91ab",
   "metadata": {},
   "source": [
    "c.\n",
    "\n",
    "Set a random seed, and then compute the LOOCV errors that\n",
    " result from fitting the following four models using least squares:"
   ]
  },
  {
   "cell_type": "markdown",
   "id": "bfb8a7f7-21a5-401e-be26-247e098fdac8",
   "metadata": {},
   "source": [
    "i. $Y=\\beta_0 + \\beta_{1}X + \\epsilon$"
   ]
  },
  {
   "cell_type": "code",
   "execution_count": 64,
   "id": "935b0085-4034-4044-bc54-3eaf35636483",
   "metadata": {},
   "outputs": [
    {
     "data": {
      "text/plain": [
       "6.633029839181983"
      ]
     },
     "execution_count": 64,
     "metadata": {},
     "output_type": "execute_result"
    }
   ],
   "source": [
    "random.seed(1000)\n",
    "X = np.array((np.ones(x.shape[0]), x)).T\n",
    "hp_model = sklearn_sm(sm.OLS)\n",
    "cv_results = cross_validate(hp_model,X,y,cv=X.shape[0])\n",
    "\n",
    "cv_err = np.mean(cv_results['test_score'])\n",
    "cv_err"
   ]
  },
  {
   "cell_type": "markdown",
   "id": "c3b85da5-7be2-4f5e-8e71-a93e18777793",
   "metadata": {},
   "source": [
    "ii. $Y=\\beta_0 + \\beta_{1}X + \\beta_{2}X^2 + \\epsilon$"
   ]
  },
  {
   "cell_type": "code",
   "execution_count": 65,
   "id": "f6b06779-3755-41c6-89aa-c2c92c7d4418",
   "metadata": {},
   "outputs": [
    {
     "data": {
      "text/plain": [
       "1.122936856341969"
      ]
     },
     "execution_count": 65,
     "metadata": {},
     "output_type": "execute_result"
    }
   ],
   "source": [
    "X = np.array((np.ones(x.shape[0]), x, x**2)).T\n",
    "hp_model = sklearn_sm(sm.OLS)\n",
    "cv_results = cross_validate(hp_model,X,y,cv=X.shape[0])\n",
    "\n",
    "cv_err1 = np.mean(cv_results['test_score'])\n",
    "cv_err1"
   ]
  },
  {
   "cell_type": "markdown",
   "id": "a9d0c18e-a667-42f8-a974-f9127c374e78",
   "metadata": {},
   "source": [
    "iii. $Y=\\beta_0 + \\beta_{1}X + \\beta_{2}X^2 + \\beta_{3}X^3 + \\epsilon$"
   ]
  },
  {
   "cell_type": "code",
   "execution_count": 66,
   "id": "e6bf0a89-9b4e-40d8-ab0e-ef8cfe22bf12",
   "metadata": {},
   "outputs": [
    {
     "data": {
      "text/plain": [
       "1.3017965489358867"
      ]
     },
     "execution_count": 66,
     "metadata": {},
     "output_type": "execute_result"
    }
   ],
   "source": [
    "X = np.array((np.ones(x.shape[0]), x, x**2, x**3)).T\n",
    "hp_model = sklearn_sm(sm.OLS)\n",
    "cv_results = cross_validate(hp_model,X,y,cv=X.shape[0])\n",
    "\n",
    "cv_err2 = np.mean(cv_results['test_score'])\n",
    "cv_err2"
   ]
  },
  {
   "cell_type": "markdown",
   "id": "2194f6d2-13ce-4163-b2d7-4e4c0eab28b3",
   "metadata": {},
   "source": [
    "iv. $Y=\\beta_0 + \\beta_{1}X + \\beta_{2}X^2 + \\beta_{3}X^3 + \\beta_{4}X^4 + \\epsilon$"
   ]
  },
  {
   "cell_type": "code",
   "execution_count": 67,
   "id": "130d3842-eedb-402d-8e00-bef1525261ab",
   "metadata": {},
   "outputs": [
    {
     "data": {
      "text/plain": [
       "1.3323942694179325"
      ]
     },
     "execution_count": 67,
     "metadata": {},
     "output_type": "execute_result"
    }
   ],
   "source": [
    "X = np.array((np.ones(x.shape[0]), x, x**2, x**3, x**4)).T\n",
    "hp_model = sklearn_sm(sm.OLS)\n",
    "cv_results = cross_validate(hp_model,X,y,cv=X.shape[0])\n",
    "\n",
    "cv_err3 = np.mean(cv_results['test_score'])\n",
    "cv_err3"
   ]
  },
  {
   "cell_type": "markdown",
   "id": "519347b8-905d-42ed-ada6-fa1799942aad",
   "metadata": {},
   "source": [
    "Note you may find it helpful to use the data.frame() function\n",
    " to create a single data set containing both X and Y ."
   ]
  },
  {
   "cell_type": "markdown",
   "id": "a04e9c65-8936-4fb6-b16b-d48833ef547e",
   "metadata": {},
   "source": [
    "d.\n",
    "\n",
    " Repeat (c) using another random seed, and report your results.\n",
    " Are your results the same as what you got in (c)? Why?"
   ]
  },
  {
   "cell_type": "code",
   "execution_count": 68,
   "id": "20fa2682-f92d-4780-aa29-ef58a5d0f804",
   "metadata": {},
   "outputs": [
    {
     "name": "stdout",
     "output_type": "stream",
     "text": [
      "6.633029839181983\n"
     ]
    }
   ],
   "source": [
    "random.seed(42)\n",
    "X = np.array((np.ones(x.shape[0]), x)).T\n",
    "hp_model = sklearn_sm(sm.OLS)\n",
    "cv_results = cross_validate(hp_model,X,y,cv=X.shape[0])\n",
    "\n",
    "cv_err = np.mean(cv_results['test_score'])\n",
    "print(cv_err)"
   ]
  },
  {
   "cell_type": "markdown",
   "id": "81322166-b9c4-45cd-9aa6-9279195f729b",
   "metadata": {},
   "source": [
    "We have only removed one observation so there is no random effect thus LOOCV will always be the same regardless of random seed"
   ]
  },
  {
   "cell_type": "markdown",
   "id": "8ce610e8-8698-459f-8d60-a0394455a5e5",
   "metadata": {},
   "source": [
    "e.\n",
    "\n",
    "Which of the models in (c) had the smallest LOOCV error? Is\n",
    " this what you expected? Explain your answer."
   ]
  },
  {
   "cell_type": "markdown",
   "id": "79f63f6b-1c41-4995-8af0-5504e1a9f924",
   "metadata": {},
   "source": [
    "**Ans:**\n",
    "\n",
    "The qudratic form ii since our $y$ is modeled using a quadratic form. Yes it was expected since we modeled $\\mathbf{Y}$ with a second order polynomial\n",
    "_______________________________________________________________________________"
   ]
  },
  {
   "cell_type": "markdown",
   "id": "f8e03f6d-5732-4dac-87df-44d2e6c8b7b9",
   "metadata": {},
   "source": [
    "f.\n",
    "\n",
    "Comment on the statistical significance of the coefficient estimates that results from fitting each of the models in (c) using\n",
    " least squares. Do these results agree with the conclusions drawn based on the cross-validation results?"
   ]
  },
  {
   "cell_type": "code",
   "execution_count": 84,
   "id": "4d8a49ff-446a-4ce0-a8b2-9705cb585802",
   "metadata": {},
   "outputs": [
    {
     "name": "stdout",
     "output_type": "stream",
     "text": [
      "     coef  std err      t  P>|t|\n",
      "x1  2.097    0.334  6.284    0.0\n"
     ]
    }
   ],
   "source": [
    "X1 = np.array((np.ones(x.shape[0]), x)).T\n",
    "X2 = np.array((np.ones(x.shape[0]), x, x**2)).T\n",
    "X3 = np.array((np.ones(x.shape[0]), x, x**2, x**3)).T\n",
    "X4 = np.array((np.ones(x.shape[0]), x, x**2, x**3, x**4)).T\n",
    "mod = sm.OLS(y,X1).fit()\n",
    "print(summarize(mod))"
   ]
  },
  {
   "cell_type": "code",
   "execution_count": 85,
   "id": "00cc908a-2347-429c-bcfa-7cf7ffda83e2",
   "metadata": {},
   "outputs": [
    {
     "name": "stdout",
     "output_type": "stream",
     "text": [
      "      coef  std err       t  P>|t|\n",
      "x1  0.9571    0.125   7.653    0.0\n",
      "x2 -2.0341    0.077 -26.484    0.0\n"
     ]
    }
   ],
   "source": [
    "mod = sm.OLS(y,X2).fit()\n",
    "print(summarize(mod))"
   ]
  },
  {
   "cell_type": "code",
   "execution_count": 81,
   "id": "4c8f3ff7-228b-4314-bbd3-858a49a1ca04",
   "metadata": {},
   "outputs": [
    {
     "name": "stdout",
     "output_type": "stream",
     "text": [
      "         coef  std err       t  P>|t|\n",
      "const -0.0572    0.120  -0.477  0.635\n",
      "x1     1.1146    0.187   5.945  0.000\n",
      "x2    -2.0471    0.099 -20.673  0.000\n",
      "x3    -0.0643    0.060  -1.070  0.287\n"
     ]
    }
   ],
   "source": [
    "mod = sm.OLS(y,X3).fit()\n",
    "print(summarize(mod))"
   ]
  },
  {
   "cell_type": "code",
   "execution_count": 82,
   "id": "c788acd7-7898-4761-99df-4e6abc4ce677",
   "metadata": {},
   "outputs": [
    {
     "name": "stdout",
     "output_type": "stream",
     "text": [
      "         coef  std err       t  P>|t|\n",
      "const  0.1008    0.136   0.743  0.460\n",
      "x1     0.9050    0.205   4.423  0.000\n",
      "x2    -2.5059    0.221 -11.336  0.000\n",
      "x3     0.0338    0.073   0.466  0.642\n",
      "x4     0.1042    0.045   2.309  0.023\n"
     ]
    }
   ],
   "source": [
    "mod = sm.OLS(y,X4).fit()\n",
    "print(summarize(mod))"
   ]
  },
  {
   "cell_type": "markdown",
   "id": "dfa731a5-7932-416b-9b57-40935a027fca",
   "metadata": {},
   "source": [
    "As we can see the only variable that are statistically significant are x1 and x2, which aligns with how $y$ was set up as"
   ]
  },
  {
   "cell_type": "markdown",
   "id": "31d4c037-8b61-43fb-a5aa-e3a5087478be",
   "metadata": {},
   "source": [
    "5.9\n",
    "\n",
    "We will now consider the Boston housing data set, from the ISLP\n",
    " library."
   ]
  },
  {
   "cell_type": "code",
   "execution_count": 2,
   "id": "0c073dd8-1e91-4390-b2f2-aa7833b46163",
   "metadata": {},
   "outputs": [
    {
     "data": {
      "text/html": [
       "<div>\n",
       "<style scoped>\n",
       "    .dataframe tbody tr th:only-of-type {\n",
       "        vertical-align: middle;\n",
       "    }\n",
       "\n",
       "    .dataframe tbody tr th {\n",
       "        vertical-align: top;\n",
       "    }\n",
       "\n",
       "    .dataframe thead th {\n",
       "        text-align: right;\n",
       "    }\n",
       "</style>\n",
       "<table border=\"1\" class=\"dataframe\">\n",
       "  <thead>\n",
       "    <tr style=\"text-align: right;\">\n",
       "      <th></th>\n",
       "      <th>crim</th>\n",
       "      <th>zn</th>\n",
       "      <th>indus</th>\n",
       "      <th>chas</th>\n",
       "      <th>nox</th>\n",
       "      <th>rm</th>\n",
       "      <th>age</th>\n",
       "      <th>dis</th>\n",
       "      <th>rad</th>\n",
       "      <th>tax</th>\n",
       "      <th>ptratio</th>\n",
       "      <th>lstat</th>\n",
       "      <th>medv</th>\n",
       "    </tr>\n",
       "  </thead>\n",
       "  <tbody>\n",
       "    <tr>\n",
       "      <th>0</th>\n",
       "      <td>0.00632</td>\n",
       "      <td>18.0</td>\n",
       "      <td>2.31</td>\n",
       "      <td>0</td>\n",
       "      <td>0.538</td>\n",
       "      <td>6.575</td>\n",
       "      <td>65.2</td>\n",
       "      <td>4.0900</td>\n",
       "      <td>1</td>\n",
       "      <td>296</td>\n",
       "      <td>15.3</td>\n",
       "      <td>4.98</td>\n",
       "      <td>24.0</td>\n",
       "    </tr>\n",
       "    <tr>\n",
       "      <th>1</th>\n",
       "      <td>0.02731</td>\n",
       "      <td>0.0</td>\n",
       "      <td>7.07</td>\n",
       "      <td>0</td>\n",
       "      <td>0.469</td>\n",
       "      <td>6.421</td>\n",
       "      <td>78.9</td>\n",
       "      <td>4.9671</td>\n",
       "      <td>2</td>\n",
       "      <td>242</td>\n",
       "      <td>17.8</td>\n",
       "      <td>9.14</td>\n",
       "      <td>21.6</td>\n",
       "    </tr>\n",
       "    <tr>\n",
       "      <th>2</th>\n",
       "      <td>0.02729</td>\n",
       "      <td>0.0</td>\n",
       "      <td>7.07</td>\n",
       "      <td>0</td>\n",
       "      <td>0.469</td>\n",
       "      <td>7.185</td>\n",
       "      <td>61.1</td>\n",
       "      <td>4.9671</td>\n",
       "      <td>2</td>\n",
       "      <td>242</td>\n",
       "      <td>17.8</td>\n",
       "      <td>4.03</td>\n",
       "      <td>34.7</td>\n",
       "    </tr>\n",
       "    <tr>\n",
       "      <th>3</th>\n",
       "      <td>0.03237</td>\n",
       "      <td>0.0</td>\n",
       "      <td>2.18</td>\n",
       "      <td>0</td>\n",
       "      <td>0.458</td>\n",
       "      <td>6.998</td>\n",
       "      <td>45.8</td>\n",
       "      <td>6.0622</td>\n",
       "      <td>3</td>\n",
       "      <td>222</td>\n",
       "      <td>18.7</td>\n",
       "      <td>2.94</td>\n",
       "      <td>33.4</td>\n",
       "    </tr>\n",
       "    <tr>\n",
       "      <th>4</th>\n",
       "      <td>0.06905</td>\n",
       "      <td>0.0</td>\n",
       "      <td>2.18</td>\n",
       "      <td>0</td>\n",
       "      <td>0.458</td>\n",
       "      <td>7.147</td>\n",
       "      <td>54.2</td>\n",
       "      <td>6.0622</td>\n",
       "      <td>3</td>\n",
       "      <td>222</td>\n",
       "      <td>18.7</td>\n",
       "      <td>5.33</td>\n",
       "      <td>36.2</td>\n",
       "    </tr>\n",
       "    <tr>\n",
       "      <th>...</th>\n",
       "      <td>...</td>\n",
       "      <td>...</td>\n",
       "      <td>...</td>\n",
       "      <td>...</td>\n",
       "      <td>...</td>\n",
       "      <td>...</td>\n",
       "      <td>...</td>\n",
       "      <td>...</td>\n",
       "      <td>...</td>\n",
       "      <td>...</td>\n",
       "      <td>...</td>\n",
       "      <td>...</td>\n",
       "      <td>...</td>\n",
       "    </tr>\n",
       "    <tr>\n",
       "      <th>501</th>\n",
       "      <td>0.06263</td>\n",
       "      <td>0.0</td>\n",
       "      <td>11.93</td>\n",
       "      <td>0</td>\n",
       "      <td>0.573</td>\n",
       "      <td>6.593</td>\n",
       "      <td>69.1</td>\n",
       "      <td>2.4786</td>\n",
       "      <td>1</td>\n",
       "      <td>273</td>\n",
       "      <td>21.0</td>\n",
       "      <td>9.67</td>\n",
       "      <td>22.4</td>\n",
       "    </tr>\n",
       "    <tr>\n",
       "      <th>502</th>\n",
       "      <td>0.04527</td>\n",
       "      <td>0.0</td>\n",
       "      <td>11.93</td>\n",
       "      <td>0</td>\n",
       "      <td>0.573</td>\n",
       "      <td>6.120</td>\n",
       "      <td>76.7</td>\n",
       "      <td>2.2875</td>\n",
       "      <td>1</td>\n",
       "      <td>273</td>\n",
       "      <td>21.0</td>\n",
       "      <td>9.08</td>\n",
       "      <td>20.6</td>\n",
       "    </tr>\n",
       "    <tr>\n",
       "      <th>503</th>\n",
       "      <td>0.06076</td>\n",
       "      <td>0.0</td>\n",
       "      <td>11.93</td>\n",
       "      <td>0</td>\n",
       "      <td>0.573</td>\n",
       "      <td>6.976</td>\n",
       "      <td>91.0</td>\n",
       "      <td>2.1675</td>\n",
       "      <td>1</td>\n",
       "      <td>273</td>\n",
       "      <td>21.0</td>\n",
       "      <td>5.64</td>\n",
       "      <td>23.9</td>\n",
       "    </tr>\n",
       "    <tr>\n",
       "      <th>504</th>\n",
       "      <td>0.10959</td>\n",
       "      <td>0.0</td>\n",
       "      <td>11.93</td>\n",
       "      <td>0</td>\n",
       "      <td>0.573</td>\n",
       "      <td>6.794</td>\n",
       "      <td>89.3</td>\n",
       "      <td>2.3889</td>\n",
       "      <td>1</td>\n",
       "      <td>273</td>\n",
       "      <td>21.0</td>\n",
       "      <td>6.48</td>\n",
       "      <td>22.0</td>\n",
       "    </tr>\n",
       "    <tr>\n",
       "      <th>505</th>\n",
       "      <td>0.04741</td>\n",
       "      <td>0.0</td>\n",
       "      <td>11.93</td>\n",
       "      <td>0</td>\n",
       "      <td>0.573</td>\n",
       "      <td>6.030</td>\n",
       "      <td>80.8</td>\n",
       "      <td>2.5050</td>\n",
       "      <td>1</td>\n",
       "      <td>273</td>\n",
       "      <td>21.0</td>\n",
       "      <td>7.88</td>\n",
       "      <td>11.9</td>\n",
       "    </tr>\n",
       "  </tbody>\n",
       "</table>\n",
       "<p>506 rows × 13 columns</p>\n",
       "</div>"
      ],
      "text/plain": [
       "        crim    zn  indus  chas    nox     rm   age     dis  rad  tax  \\\n",
       "0    0.00632  18.0   2.31     0  0.538  6.575  65.2  4.0900    1  296   \n",
       "1    0.02731   0.0   7.07     0  0.469  6.421  78.9  4.9671    2  242   \n",
       "2    0.02729   0.0   7.07     0  0.469  7.185  61.1  4.9671    2  242   \n",
       "3    0.03237   0.0   2.18     0  0.458  6.998  45.8  6.0622    3  222   \n",
       "4    0.06905   0.0   2.18     0  0.458  7.147  54.2  6.0622    3  222   \n",
       "..       ...   ...    ...   ...    ...    ...   ...     ...  ...  ...   \n",
       "501  0.06263   0.0  11.93     0  0.573  6.593  69.1  2.4786    1  273   \n",
       "502  0.04527   0.0  11.93     0  0.573  6.120  76.7  2.2875    1  273   \n",
       "503  0.06076   0.0  11.93     0  0.573  6.976  91.0  2.1675    1  273   \n",
       "504  0.10959   0.0  11.93     0  0.573  6.794  89.3  2.3889    1  273   \n",
       "505  0.04741   0.0  11.93     0  0.573  6.030  80.8  2.5050    1  273   \n",
       "\n",
       "     ptratio  lstat  medv  \n",
       "0       15.3   4.98  24.0  \n",
       "1       17.8   9.14  21.6  \n",
       "2       17.8   4.03  34.7  \n",
       "3       18.7   2.94  33.4  \n",
       "4       18.7   5.33  36.2  \n",
       "..       ...    ...   ...  \n",
       "501     21.0   9.67  22.4  \n",
       "502     21.0   9.08  20.6  \n",
       "503     21.0   5.64  23.9  \n",
       "504     21.0   6.48  22.0  \n",
       "505     21.0   7.88  11.9  \n",
       "\n",
       "[506 rows x 13 columns]"
      ]
     },
     "execution_count": 2,
     "metadata": {},
     "output_type": "execute_result"
    }
   ],
   "source": [
    "import random\n",
    "from ISLP import load_data\n",
    "import statsmodels.api as sm\n",
    "from ISLP.models import (ModelSpec as MS,summarize)\n",
    "import numpy as np\n",
    "from matplotlib.pyplot import subplots\n",
    "import matplotlib.pyplot as plt\n",
    "import seaborn as sns\n",
    "import pandas as pd\n",
    "from ISLP import confusion_table\n",
    "from ISLP.models import contrast\n",
    "from sklearn.discriminant_analysis import \\\n",
    "    (LinearDiscriminantAnalysis as LDA,\n",
    "    QuadraticDiscriminantAnalysis as QDA)\n",
    "from sklearn.metrics import confusion_matrix, accuracy_score\n",
    "from sklearn.naive_bayes import GaussianNB\n",
    "from sklearn.neighbors import KNeighborsClassifier\n",
    "from sklearn.preprocessing import StandardScaler\n",
    "from sklearn.model_selection import train_test_split\n",
    "from sklearn.linear_model import LogisticRegression\n",
    "from functools import partial\n",
    "\n",
    "Boston = load_data('Boston')\n",
    "Boston"
   ]
  },
  {
   "cell_type": "markdown",
   "id": "3f250a14-c015-439c-aa14-23fcb89bda81",
   "metadata": {},
   "source": [
    "a.\n",
    "\n",
    "Based on this data set, provide an estimate for the population\n",
    " mean of medv. Call this estimate $\\hat{\\mu}$."
   ]
  },
  {
   "cell_type": "code",
   "execution_count": 3,
   "id": "6efc7df5-798e-43f2-8224-bf78af0b0fa8",
   "metadata": {},
   "outputs": [
    {
     "data": {
      "text/plain": [
       "22.532806324110677"
      ]
     },
     "execution_count": 3,
     "metadata": {},
     "output_type": "execute_result"
    }
   ],
   "source": [
    "np.random.seed(42)\n",
    "mu = Boston['medv'].mean()\n",
    "mu"
   ]
  },
  {
   "cell_type": "markdown",
   "id": "86bd9855-ac7c-4dbb-a0d1-035d1120d43b",
   "metadata": {},
   "source": [
    "b.\n",
    "\n",
    "Provide an estimate of the standard error of $\\hat{\\mu}$. Interpret this\n",
    " result.\n",
    " Hint: We can compute the standard error of the sample mean by\n",
    " dividing the sample standard deviation by the square root of the\n",
    " number of observations."
   ]
  },
  {
   "cell_type": "code",
   "execution_count": 4,
   "id": "6d7619d5-afbb-4376-ae81-27eefeaf2eec",
   "metadata": {},
   "outputs": [
    {
     "data": {
      "text/plain": [
       "0.4088611474975351"
      ]
     },
     "execution_count": 4,
     "metadata": {},
     "output_type": "execute_result"
    }
   ],
   "source": [
    "se = Boston['medv'].std()/np.sqrt(Boston.shape[0])\n",
    "se"
   ]
  },
  {
   "cell_type": "code",
   "execution_count": 12,
   "id": "8e4575a2-d051-42d8-b5a1-d1d62fc1c8ce",
   "metadata": {},
   "outputs": [
    {
     "data": {
      "text/plain": [
       "array([], dtype=int64)"
      ]
     },
     "execution_count": 12,
     "metadata": {},
     "output_type": "execute_result"
    }
   ],
   "source": [
    "rng = np.random.default_rng(42)\n",
    "rng.choice(Boston['medv'].index,Boston['medv'].index[0])"
   ]
  },
  {
   "cell_type": "code",
   "execution_count": 10,
   "id": "1f8aaaff-5606-421e-9d46-b72365ebdab4",
   "metadata": {},
   "outputs": [
    {
     "data": {
      "text/plain": [
       "0"
      ]
     },
     "execution_count": 10,
     "metadata": {},
     "output_type": "execute_result"
    }
   ],
   "source": [
    "Boston['medv'].index[0]"
   ]
  },
  {
   "cell_type": "markdown",
   "id": "f8dc806b-2397-4eea-b092-13bf44c75c95",
   "metadata": {},
   "source": [
    "c.\n",
    "\n",
    "Now estimate the standard error of $\\hat{\\mu}$ using the bootstrap. How\n",
    " does this compare to your answer from (b)?"
   ]
  },
  {
   "cell_type": "code",
   "execution_count": 44,
   "id": "bf36927e-fd91-41d4-a8eb-aab2b15db427",
   "metadata": {},
   "outputs": [
    {
     "data": {
      "text/plain": [
       "0.4081276239198879"
      ]
     },
     "execution_count": 44,
     "metadata": {},
     "output_type": "execute_result"
    }
   ],
   "source": [
    "def Boot_mu(data,B=100,seed=42):\n",
    "    rng = np.random.default_rng(seed)\n",
    "    stde = []\n",
    "    for _ in range(B):\n",
    "        idx = rng.choice(data.index,data.shape[0])\n",
    "        boot = data[idx]\n",
    "        stde.append((boot.std()/np.sqrt(data.shape[0])))\n",
    "    return sum(stde)/len(stde)\n",
    "\n",
    "SE = Boot_mu(Boston['medv'])\n",
    "SE"
   ]
  },
  {
   "cell_type": "markdown",
   "id": "b2e23e18-e05e-4765-85ce-bd3a42f2501b",
   "metadata": {},
   "source": [
    "We get approximately the same"
   ]
  },
  {
   "cell_type": "code",
   "execution_count": null,
   "id": "994c1ff7-d086-416a-bbf2-2ab625eacbc2",
   "metadata": {},
   "outputs": [],
   "source": []
  },
  {
   "cell_type": "markdown",
   "id": "39a4f639-0cfd-426c-9baa-0d61b31f85d6",
   "metadata": {},
   "source": [
    "d.\n",
    "\n",
    "Based on your bootstrap estimate from (c), provide a 95% confidence interval for the mean of medv. Compare it to the results\n",
    " obtained by using Boston['medv'].std() and the two standard error rule (3.9)."
   ]
  },
  {
   "cell_type": "code",
   "execution_count": 23,
   "id": "476bea36-982f-4592-b3cf-0dbea513f187",
   "metadata": {},
   "outputs": [
    {
     "name": "stdout",
     "output_type": "stream",
     "text": [
      "The confidence interval is between [ 20.644784532767954 24.4208281154534 ]\n"
     ]
    }
   ],
   "source": [
    "print(\"The confidence interval is between [\",mu - 2*SE,mu + 2*SE,\"]\")"
   ]
  },
  {
   "cell_type": "markdown",
   "id": "6e581a51-b704-4ee3-92fc-6dfdc4b30bb5",
   "metadata": {},
   "source": [
    "e.\n",
    "\n",
    "Based on this data set, provide an estimate, $\\hat{\\mu}_{med}$, for the median\n",
    " value of medv in the population."
   ]
  },
  {
   "cell_type": "code",
   "execution_count": 19,
   "id": "f3b5a592-0c60-41db-9a80-63fb8f185074",
   "metadata": {},
   "outputs": [
    {
     "data": {
      "text/plain": [
       "21.2"
      ]
     },
     "execution_count": 19,
     "metadata": {},
     "output_type": "execute_result"
    }
   ],
   "source": [
    "mu_med = Boston['medv'].median()\n",
    "mu_med"
   ]
  },
  {
   "cell_type": "markdown",
   "id": "c739472f-f813-49ef-99be-74b8fde72e08",
   "metadata": {},
   "source": [
    "f.\n",
    "\n",
    "We now would like to estimate the standard error of $\\hat{\\mu}_{med}$. Unfortunately, there is no simple formula for computing the standard\n",
    " error of the median. Instead, estimate the standard error of the\n",
    " median using the bootstrap. Comment on your findings."
   ]
  },
  {
   "cell_type": "code",
   "execution_count": 38,
   "id": "90d552ba-994a-4731-9129-1d57f9d950d0",
   "metadata": {},
   "outputs": [
    {
     "data": {
      "text/plain": [
       "0.3832427429188969"
      ]
     },
     "execution_count": 38,
     "metadata": {},
     "output_type": "execute_result"
    }
   ],
   "source": [
    "median = []\n",
    "for i in range(1000):\n",
    "        median.append(Boston['medv'].sample(n=Boston.shape[0],replace=True).median())\n",
    "boot_mu_med = np.std(median)\n",
    "boot_"
   ]
  },
  {
   "cell_type": "markdown",
   "id": "90510a08-da54-4617-8113-666f09178a70",
   "metadata": {},
   "source": [
    "since the standard error of the median is lower than the standard error of the mean then the data may be skewed or contains outliers"
   ]
  },
  {
   "cell_type": "code",
   "execution_count": 42,
   "id": "ae48b418-a177-41e0-bdba-c083fe4acfa0",
   "metadata": {},
   "outputs": [
    {
     "data": {
      "text/plain": [
       "<matplotlib.collections.PathCollection at 0x2a0a85662f0>"
      ]
     },
     "execution_count": 42,
     "metadata": {},
     "output_type": "execute_result"
    },
    {
     "data": {
      "image/png": "[encoded data removed]",
      "text/plain": [
       "<Figure size 800x800 with 1 Axes>"
      ]
     },
     "metadata": {},
     "output_type": "display_data"
    }
   ],
   "source": [
    "fig, ax = subplots(figsize=(8,8))\n",
    "ax.scatter(range(0,len(Boston['medv'])),Boston['medv'])"
   ]
  },
  {
   "cell_type": "markdown",
   "id": "47277982-956e-4283-b692-7966bcf3b6cf",
   "metadata": {},
   "source": [
    "g.\n",
    "\n",
    " Based on this data set, provide an estimate for the tenth per\n",
    "centile of medv in Boston census tracts. Call this quantity $\\hat{\\mu}_{0.1}$.\n",
    " (You can use the np.percentile() function.)"
   ]
  },
  {
   "cell_type": "code",
   "execution_count": 35,
   "id": "10c158f9-4950-4378-9191-a8e9e94873cd",
   "metadata": {},
   "outputs": [
    {
     "data": {
      "text/plain": [
       "12.75"
      ]
     },
     "execution_count": 35,
     "metadata": {},
     "output_type": "execute_result"
    }
   ],
   "source": [
    "mu_01 = np.percentile(Boston['medv'],10)\n",
    "mu_01"
   ]
  },
  {
   "cell_type": "code",
   "execution_count": null,
   "id": "36037eb1-90c0-46e6-b134-10784c4d5926",
   "metadata": {},
   "outputs": [],
   "source": []
  },
  {
   "cell_type": "markdown",
   "id": "9aeaf9e4-8e13-4fd2-98bd-22d294be3990",
   "metadata": {},
   "source": [
    "h.\n",
    "\n",
    "Use the bootstrap to estimate the standard error of $\\hat{\\mu}_{0.1}.$ Comment on your findings."
   ]
  },
  {
   "cell_type": "code",
   "execution_count": 37,
   "id": "45c92247-5470-4722-9ebb-aea38a992c56",
   "metadata": {},
   "outputs": [
    {
     "data": {
      "text/plain": [
       "0.5004916957353038"
      ]
     },
     "execution_count": 37,
     "metadata": {},
     "output_type": "execute_result"
    }
   ],
   "source": [
    "perc = []\n",
    "for i in range(1000):\n",
    "        perc.append(np.percentile(Boston['medv'].sample(n=Boston.shape[0],replace=True),10))\n",
    "boot_mu_01 = np.std(perc)\n",
    "boot_mu_01"
   ]
  },
  {
   "cell_type": "code",
   "execution_count": 5,
   "id": "9a9af82a-fb0d-454a-ba95-c9a755d5c101",
   "metadata": {},
   "outputs": [
    {
     "data": {
      "text/plain": [
       "(array([ 57.,  92., 108., 119., 126., 125., 118., 110.,  91.,  54.]),\n",
       " array([-1.96735425, -1.57262507, -1.17789589, -0.78316671, -0.38843753,\n",
       "         0.00629165,  0.40102083,  0.79575001,  1.19047919,  1.58520837,\n",
       "         1.97993755]),\n",
       " <BarContainer object of 10 artists>)"
      ]
     },
     "execution_count": 5,
     "metadata": {},
     "output_type": "execute_result"
    },
    {
     "data": {
      "image/png": "[encoded data removed]",
      "text/plain": [
       "<Figure size 640x480 with 1 Axes>"
      ]
     },
     "metadata": {},
     "output_type": "display_data"
    }
   ],
   "source": [
    "import numpy as np\n",
    "import matplotlib.pyplot as plt\n",
    "\n",
    "n=1000\n",
    "A = np.random.randn(n,n)\n",
    "GOE = (A+A.T)/np.sqrt(2*n)\n",
    "eig = np.linalg.eigvals(GOE)\n",
    "plt.hist(eig)"
   ]
  }
 ],
 "metadata": {
  "kernelspec": {
   "display_name": "Python 3 (ipykernel)",
   "language": "python",
   "name": "python3"
  },
  "language_info": {
   "codemirror_mode": {
    "name": "ipython",
    "version": 3
   },
   "file_extension": ".py",
   "mimetype": "text/x-python",
   "name": "python",
   "nbconvert_exporter": "python",
   "pygments_lexer": "ipython3",
   "version": "3.10.16"
  }
 },
 "nbformat": 4,
 "nbformat_minor": 5
}
